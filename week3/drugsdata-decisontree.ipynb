{
 "cells": [
  {
   "cell_type": "code",
   "execution_count": 1,
   "id": "5edb788c",
   "metadata": {
    "_cell_guid": "b1076dfc-b9ad-4769-8c92-a6c4dae69d19",
    "_uuid": "8f2839f25d086af736a60e9eeb907d3b93b6e0e5",
    "execution": {
     "iopub.execute_input": "2022-02-23T12:19:24.551526Z",
     "iopub.status.busy": "2022-02-23T12:19:24.550861Z",
     "iopub.status.idle": "2022-02-23T12:19:24.567090Z",
     "shell.execute_reply": "2022-02-23T12:19:24.566417Z",
     "shell.execute_reply.started": "2022-02-20T10:11:59.901546Z"
    },
    "papermill": {
     "duration": 0.039846,
     "end_time": "2022-02-23T12:19:24.567258",
     "exception": false,
     "start_time": "2022-02-23T12:19:24.527412",
     "status": "completed"
    },
    "tags": []
   },
   "outputs": [
    {
     "name": "stdout",
     "output_type": "stream",
     "text": [
      "/kaggle/input/drugs-a-b-c-x-y-for-decision-trees/drug200.csv\n"
     ]
    }
   ],
   "source": [
    "# This Python 3 environment comes with many helpful analytics libraries installed\n",
    "# It is defined by the kaggle/python Docker image: https://github.com/kaggle/docker-python\n",
    "# For example, here's several helpful packages to load\n",
    "\n",
    "import numpy as np # linear algebra\n",
    "import pandas as pd # data processing, CSV file I/O (e.g. pd.read_csv)\n",
    "\n",
    "# Input data files are available in the read-only \"../input/\" directory\n",
    "# For example, running this (by clicking run or pressing Shift+Enter) will list all files under the input directory\n",
    "\n",
    "import os\n",
    "for dirname, _, filenames in os.walk('/kaggle/input'):\n",
    "    for filename in filenames:\n",
    "        print(os.path.join(dirname, filename))\n",
    "\n",
    "# You can write up to 20GB to the current directory (/kaggle/working/) that gets preserved as output when you create a version using \"Save & Run All\" \n",
    "# You can also write temporary files to /kaggle/temp/, but they won't be saved outside of the current session"
   ]
  },
  {
   "cell_type": "code",
   "execution_count": 2,
   "id": "6d855bdf",
   "metadata": {
    "execution": {
     "iopub.execute_input": "2022-02-23T12:19:24.602026Z",
     "iopub.status.busy": "2022-02-23T12:19:24.601304Z",
     "iopub.status.idle": "2022-02-23T12:19:24.640842Z",
     "shell.execute_reply": "2022-02-23T12:19:24.640304Z",
     "shell.execute_reply.started": "2022-02-20T10:11:59.924496Z"
    },
    "papermill": {
     "duration": 0.058684,
     "end_time": "2022-02-23T12:19:24.641001",
     "exception": false,
     "start_time": "2022-02-23T12:19:24.582317",
     "status": "completed"
    },
    "tags": []
   },
   "outputs": [
    {
     "data": {
      "text/html": [
       "<div>\n",
       "<style scoped>\n",
       "    .dataframe tbody tr th:only-of-type {\n",
       "        vertical-align: middle;\n",
       "    }\n",
       "\n",
       "    .dataframe tbody tr th {\n",
       "        vertical-align: top;\n",
       "    }\n",
       "\n",
       "    .dataframe thead th {\n",
       "        text-align: right;\n",
       "    }\n",
       "</style>\n",
       "<table border=\"1\" class=\"dataframe\">\n",
       "  <thead>\n",
       "    <tr style=\"text-align: right;\">\n",
       "      <th></th>\n",
       "      <th>Age</th>\n",
       "      <th>Sex</th>\n",
       "      <th>BP</th>\n",
       "      <th>Cholesterol</th>\n",
       "      <th>Na_to_K</th>\n",
       "      <th>Drug</th>\n",
       "    </tr>\n",
       "  </thead>\n",
       "  <tbody>\n",
       "    <tr>\n",
       "      <th>0</th>\n",
       "      <td>23</td>\n",
       "      <td>F</td>\n",
       "      <td>HIGH</td>\n",
       "      <td>HIGH</td>\n",
       "      <td>25.355</td>\n",
       "      <td>drugY</td>\n",
       "    </tr>\n",
       "    <tr>\n",
       "      <th>1</th>\n",
       "      <td>47</td>\n",
       "      <td>M</td>\n",
       "      <td>LOW</td>\n",
       "      <td>HIGH</td>\n",
       "      <td>13.093</td>\n",
       "      <td>drugC</td>\n",
       "    </tr>\n",
       "    <tr>\n",
       "      <th>2</th>\n",
       "      <td>47</td>\n",
       "      <td>M</td>\n",
       "      <td>LOW</td>\n",
       "      <td>HIGH</td>\n",
       "      <td>10.114</td>\n",
       "      <td>drugC</td>\n",
       "    </tr>\n",
       "    <tr>\n",
       "      <th>3</th>\n",
       "      <td>28</td>\n",
       "      <td>F</td>\n",
       "      <td>NORMAL</td>\n",
       "      <td>HIGH</td>\n",
       "      <td>7.798</td>\n",
       "      <td>drugX</td>\n",
       "    </tr>\n",
       "    <tr>\n",
       "      <th>4</th>\n",
       "      <td>61</td>\n",
       "      <td>F</td>\n",
       "      <td>LOW</td>\n",
       "      <td>HIGH</td>\n",
       "      <td>18.043</td>\n",
       "      <td>drugY</td>\n",
       "    </tr>\n",
       "    <tr>\n",
       "      <th>...</th>\n",
       "      <td>...</td>\n",
       "      <td>...</td>\n",
       "      <td>...</td>\n",
       "      <td>...</td>\n",
       "      <td>...</td>\n",
       "      <td>...</td>\n",
       "    </tr>\n",
       "    <tr>\n",
       "      <th>195</th>\n",
       "      <td>56</td>\n",
       "      <td>F</td>\n",
       "      <td>LOW</td>\n",
       "      <td>HIGH</td>\n",
       "      <td>11.567</td>\n",
       "      <td>drugC</td>\n",
       "    </tr>\n",
       "    <tr>\n",
       "      <th>196</th>\n",
       "      <td>16</td>\n",
       "      <td>M</td>\n",
       "      <td>LOW</td>\n",
       "      <td>HIGH</td>\n",
       "      <td>12.006</td>\n",
       "      <td>drugC</td>\n",
       "    </tr>\n",
       "    <tr>\n",
       "      <th>197</th>\n",
       "      <td>52</td>\n",
       "      <td>M</td>\n",
       "      <td>NORMAL</td>\n",
       "      <td>HIGH</td>\n",
       "      <td>9.894</td>\n",
       "      <td>drugX</td>\n",
       "    </tr>\n",
       "    <tr>\n",
       "      <th>198</th>\n",
       "      <td>23</td>\n",
       "      <td>M</td>\n",
       "      <td>NORMAL</td>\n",
       "      <td>NORMAL</td>\n",
       "      <td>14.020</td>\n",
       "      <td>drugX</td>\n",
       "    </tr>\n",
       "    <tr>\n",
       "      <th>199</th>\n",
       "      <td>40</td>\n",
       "      <td>F</td>\n",
       "      <td>LOW</td>\n",
       "      <td>NORMAL</td>\n",
       "      <td>11.349</td>\n",
       "      <td>drugX</td>\n",
       "    </tr>\n",
       "  </tbody>\n",
       "</table>\n",
       "<p>200 rows × 6 columns</p>\n",
       "</div>"
      ],
      "text/plain": [
       "     Age Sex      BP Cholesterol  Na_to_K   Drug\n",
       "0     23   F    HIGH        HIGH   25.355  drugY\n",
       "1     47   M     LOW        HIGH   13.093  drugC\n",
       "2     47   M     LOW        HIGH   10.114  drugC\n",
       "3     28   F  NORMAL        HIGH    7.798  drugX\n",
       "4     61   F     LOW        HIGH   18.043  drugY\n",
       "..   ...  ..     ...         ...      ...    ...\n",
       "195   56   F     LOW        HIGH   11.567  drugC\n",
       "196   16   M     LOW        HIGH   12.006  drugC\n",
       "197   52   M  NORMAL        HIGH    9.894  drugX\n",
       "198   23   M  NORMAL      NORMAL   14.020  drugX\n",
       "199   40   F     LOW      NORMAL   11.349  drugX\n",
       "\n",
       "[200 rows x 6 columns]"
      ]
     },
     "execution_count": 2,
     "metadata": {},
     "output_type": "execute_result"
    }
   ],
   "source": [
    "df = pd.read_csv('/kaggle/input/drugs-a-b-c-x-y-for-decision-trees/drug200.csv')\n",
    "df"
   ]
  },
  {
   "cell_type": "code",
   "execution_count": 3,
   "id": "1d8bcad9",
   "metadata": {
    "execution": {
     "iopub.execute_input": "2022-02-23T12:19:24.681076Z",
     "iopub.status.busy": "2022-02-23T12:19:24.680382Z",
     "iopub.status.idle": "2022-02-23T12:19:24.704736Z",
     "shell.execute_reply": "2022-02-23T12:19:24.705241Z",
     "shell.execute_reply.started": "2022-02-20T10:20:35.42138Z"
    },
    "papermill": {
     "duration": 0.04938,
     "end_time": "2022-02-23T12:19:24.705411",
     "exception": false,
     "start_time": "2022-02-23T12:19:24.656031",
     "status": "completed"
    },
    "tags": []
   },
   "outputs": [
    {
     "data": {
      "text/html": [
       "<div>\n",
       "<style scoped>\n",
       "    .dataframe tbody tr th:only-of-type {\n",
       "        vertical-align: middle;\n",
       "    }\n",
       "\n",
       "    .dataframe tbody tr th {\n",
       "        vertical-align: top;\n",
       "    }\n",
       "\n",
       "    .dataframe thead th {\n",
       "        text-align: right;\n",
       "    }\n",
       "</style>\n",
       "<table border=\"1\" class=\"dataframe\">\n",
       "  <thead>\n",
       "    <tr style=\"text-align: right;\">\n",
       "      <th></th>\n",
       "      <th>Sex_F</th>\n",
       "      <th>Sex_M</th>\n",
       "      <th>BP_HIGH</th>\n",
       "      <th>BP_LOW</th>\n",
       "      <th>BP_NORMAL</th>\n",
       "      <th>Cholesterol_HIGH</th>\n",
       "      <th>Cholesterol_NORMAL</th>\n",
       "    </tr>\n",
       "  </thead>\n",
       "  <tbody>\n",
       "    <tr>\n",
       "      <th>0</th>\n",
       "      <td>1</td>\n",
       "      <td>0</td>\n",
       "      <td>1</td>\n",
       "      <td>0</td>\n",
       "      <td>0</td>\n",
       "      <td>1</td>\n",
       "      <td>0</td>\n",
       "    </tr>\n",
       "    <tr>\n",
       "      <th>1</th>\n",
       "      <td>0</td>\n",
       "      <td>1</td>\n",
       "      <td>0</td>\n",
       "      <td>1</td>\n",
       "      <td>0</td>\n",
       "      <td>1</td>\n",
       "      <td>0</td>\n",
       "    </tr>\n",
       "    <tr>\n",
       "      <th>2</th>\n",
       "      <td>0</td>\n",
       "      <td>1</td>\n",
       "      <td>0</td>\n",
       "      <td>1</td>\n",
       "      <td>0</td>\n",
       "      <td>1</td>\n",
       "      <td>0</td>\n",
       "    </tr>\n",
       "    <tr>\n",
       "      <th>3</th>\n",
       "      <td>1</td>\n",
       "      <td>0</td>\n",
       "      <td>0</td>\n",
       "      <td>0</td>\n",
       "      <td>1</td>\n",
       "      <td>1</td>\n",
       "      <td>0</td>\n",
       "    </tr>\n",
       "    <tr>\n",
       "      <th>4</th>\n",
       "      <td>1</td>\n",
       "      <td>0</td>\n",
       "      <td>0</td>\n",
       "      <td>1</td>\n",
       "      <td>0</td>\n",
       "      <td>1</td>\n",
       "      <td>0</td>\n",
       "    </tr>\n",
       "    <tr>\n",
       "      <th>...</th>\n",
       "      <td>...</td>\n",
       "      <td>...</td>\n",
       "      <td>...</td>\n",
       "      <td>...</td>\n",
       "      <td>...</td>\n",
       "      <td>...</td>\n",
       "      <td>...</td>\n",
       "    </tr>\n",
       "    <tr>\n",
       "      <th>195</th>\n",
       "      <td>1</td>\n",
       "      <td>0</td>\n",
       "      <td>0</td>\n",
       "      <td>1</td>\n",
       "      <td>0</td>\n",
       "      <td>1</td>\n",
       "      <td>0</td>\n",
       "    </tr>\n",
       "    <tr>\n",
       "      <th>196</th>\n",
       "      <td>0</td>\n",
       "      <td>1</td>\n",
       "      <td>0</td>\n",
       "      <td>1</td>\n",
       "      <td>0</td>\n",
       "      <td>1</td>\n",
       "      <td>0</td>\n",
       "    </tr>\n",
       "    <tr>\n",
       "      <th>197</th>\n",
       "      <td>0</td>\n",
       "      <td>1</td>\n",
       "      <td>0</td>\n",
       "      <td>0</td>\n",
       "      <td>1</td>\n",
       "      <td>1</td>\n",
       "      <td>0</td>\n",
       "    </tr>\n",
       "    <tr>\n",
       "      <th>198</th>\n",
       "      <td>0</td>\n",
       "      <td>1</td>\n",
       "      <td>0</td>\n",
       "      <td>0</td>\n",
       "      <td>1</td>\n",
       "      <td>0</td>\n",
       "      <td>1</td>\n",
       "    </tr>\n",
       "    <tr>\n",
       "      <th>199</th>\n",
       "      <td>1</td>\n",
       "      <td>0</td>\n",
       "      <td>0</td>\n",
       "      <td>1</td>\n",
       "      <td>0</td>\n",
       "      <td>0</td>\n",
       "      <td>1</td>\n",
       "    </tr>\n",
       "  </tbody>\n",
       "</table>\n",
       "<p>200 rows × 7 columns</p>\n",
       "</div>"
      ],
      "text/plain": [
       "     Sex_F  Sex_M  BP_HIGH  BP_LOW  BP_NORMAL  Cholesterol_HIGH  \\\n",
       "0        1      0        1       0          0                 1   \n",
       "1        0      1        0       1          0                 1   \n",
       "2        0      1        0       1          0                 1   \n",
       "3        1      0        0       0          1                 1   \n",
       "4        1      0        0       1          0                 1   \n",
       "..     ...    ...      ...     ...        ...               ...   \n",
       "195      1      0        0       1          0                 1   \n",
       "196      0      1        0       1          0                 1   \n",
       "197      0      1        0       0          1                 1   \n",
       "198      0      1        0       0          1                 0   \n",
       "199      1      0        0       1          0                 0   \n",
       "\n",
       "     Cholesterol_NORMAL  \n",
       "0                     0  \n",
       "1                     0  \n",
       "2                     0  \n",
       "3                     0  \n",
       "4                     0  \n",
       "..                  ...  \n",
       "195                   0  \n",
       "196                   0  \n",
       "197                   0  \n",
       "198                   1  \n",
       "199                   1  \n",
       "\n",
       "[200 rows x 7 columns]"
      ]
     },
     "execution_count": 3,
     "metadata": {},
     "output_type": "execute_result"
    }
   ],
   "source": [
    "dummies = ['Sex','BP','Cholesterol']\n",
    "dummies_data = pd.get_dummies(df[dummies])\n",
    "dummies_data"
   ]
  },
  {
   "cell_type": "code",
   "execution_count": 4,
   "id": "042b9ccb",
   "metadata": {
    "execution": {
     "iopub.execute_input": "2022-02-23T12:19:24.740572Z",
     "iopub.status.busy": "2022-02-23T12:19:24.739864Z",
     "iopub.status.idle": "2022-02-23T12:19:24.763961Z",
     "shell.execute_reply": "2022-02-23T12:19:24.763301Z",
     "shell.execute_reply.started": "2022-02-20T10:20:38.237334Z"
    },
    "papermill": {
     "duration": 0.043057,
     "end_time": "2022-02-23T12:19:24.764118",
     "exception": false,
     "start_time": "2022-02-23T12:19:24.721061",
     "status": "completed"
    },
    "tags": []
   },
   "outputs": [
    {
     "data": {
      "text/html": [
       "<div>\n",
       "<style scoped>\n",
       "    .dataframe tbody tr th:only-of-type {\n",
       "        vertical-align: middle;\n",
       "    }\n",
       "\n",
       "    .dataframe tbody tr th {\n",
       "        vertical-align: top;\n",
       "    }\n",
       "\n",
       "    .dataframe thead th {\n",
       "        text-align: right;\n",
       "    }\n",
       "</style>\n",
       "<table border=\"1\" class=\"dataframe\">\n",
       "  <thead>\n",
       "    <tr style=\"text-align: right;\">\n",
       "      <th></th>\n",
       "      <th>Age</th>\n",
       "      <th>Na_to_K</th>\n",
       "      <th>Drug</th>\n",
       "      <th>Sex_F</th>\n",
       "      <th>Sex_M</th>\n",
       "      <th>BP_HIGH</th>\n",
       "      <th>BP_LOW</th>\n",
       "      <th>BP_NORMAL</th>\n",
       "      <th>Cholesterol_HIGH</th>\n",
       "      <th>Cholesterol_NORMAL</th>\n",
       "    </tr>\n",
       "  </thead>\n",
       "  <tbody>\n",
       "    <tr>\n",
       "      <th>0</th>\n",
       "      <td>23</td>\n",
       "      <td>25.355</td>\n",
       "      <td>drugY</td>\n",
       "      <td>1</td>\n",
       "      <td>0</td>\n",
       "      <td>1</td>\n",
       "      <td>0</td>\n",
       "      <td>0</td>\n",
       "      <td>1</td>\n",
       "      <td>0</td>\n",
       "    </tr>\n",
       "    <tr>\n",
       "      <th>1</th>\n",
       "      <td>47</td>\n",
       "      <td>13.093</td>\n",
       "      <td>drugC</td>\n",
       "      <td>0</td>\n",
       "      <td>1</td>\n",
       "      <td>0</td>\n",
       "      <td>1</td>\n",
       "      <td>0</td>\n",
       "      <td>1</td>\n",
       "      <td>0</td>\n",
       "    </tr>\n",
       "    <tr>\n",
       "      <th>2</th>\n",
       "      <td>47</td>\n",
       "      <td>10.114</td>\n",
       "      <td>drugC</td>\n",
       "      <td>0</td>\n",
       "      <td>1</td>\n",
       "      <td>0</td>\n",
       "      <td>1</td>\n",
       "      <td>0</td>\n",
       "      <td>1</td>\n",
       "      <td>0</td>\n",
       "    </tr>\n",
       "    <tr>\n",
       "      <th>3</th>\n",
       "      <td>28</td>\n",
       "      <td>7.798</td>\n",
       "      <td>drugX</td>\n",
       "      <td>1</td>\n",
       "      <td>0</td>\n",
       "      <td>0</td>\n",
       "      <td>0</td>\n",
       "      <td>1</td>\n",
       "      <td>1</td>\n",
       "      <td>0</td>\n",
       "    </tr>\n",
       "    <tr>\n",
       "      <th>4</th>\n",
       "      <td>61</td>\n",
       "      <td>18.043</td>\n",
       "      <td>drugY</td>\n",
       "      <td>1</td>\n",
       "      <td>0</td>\n",
       "      <td>0</td>\n",
       "      <td>1</td>\n",
       "      <td>0</td>\n",
       "      <td>1</td>\n",
       "      <td>0</td>\n",
       "    </tr>\n",
       "    <tr>\n",
       "      <th>...</th>\n",
       "      <td>...</td>\n",
       "      <td>...</td>\n",
       "      <td>...</td>\n",
       "      <td>...</td>\n",
       "      <td>...</td>\n",
       "      <td>...</td>\n",
       "      <td>...</td>\n",
       "      <td>...</td>\n",
       "      <td>...</td>\n",
       "      <td>...</td>\n",
       "    </tr>\n",
       "    <tr>\n",
       "      <th>195</th>\n",
       "      <td>56</td>\n",
       "      <td>11.567</td>\n",
       "      <td>drugC</td>\n",
       "      <td>1</td>\n",
       "      <td>0</td>\n",
       "      <td>0</td>\n",
       "      <td>1</td>\n",
       "      <td>0</td>\n",
       "      <td>1</td>\n",
       "      <td>0</td>\n",
       "    </tr>\n",
       "    <tr>\n",
       "      <th>196</th>\n",
       "      <td>16</td>\n",
       "      <td>12.006</td>\n",
       "      <td>drugC</td>\n",
       "      <td>0</td>\n",
       "      <td>1</td>\n",
       "      <td>0</td>\n",
       "      <td>1</td>\n",
       "      <td>0</td>\n",
       "      <td>1</td>\n",
       "      <td>0</td>\n",
       "    </tr>\n",
       "    <tr>\n",
       "      <th>197</th>\n",
       "      <td>52</td>\n",
       "      <td>9.894</td>\n",
       "      <td>drugX</td>\n",
       "      <td>0</td>\n",
       "      <td>1</td>\n",
       "      <td>0</td>\n",
       "      <td>0</td>\n",
       "      <td>1</td>\n",
       "      <td>1</td>\n",
       "      <td>0</td>\n",
       "    </tr>\n",
       "    <tr>\n",
       "      <th>198</th>\n",
       "      <td>23</td>\n",
       "      <td>14.020</td>\n",
       "      <td>drugX</td>\n",
       "      <td>0</td>\n",
       "      <td>1</td>\n",
       "      <td>0</td>\n",
       "      <td>0</td>\n",
       "      <td>1</td>\n",
       "      <td>0</td>\n",
       "      <td>1</td>\n",
       "    </tr>\n",
       "    <tr>\n",
       "      <th>199</th>\n",
       "      <td>40</td>\n",
       "      <td>11.349</td>\n",
       "      <td>drugX</td>\n",
       "      <td>1</td>\n",
       "      <td>0</td>\n",
       "      <td>0</td>\n",
       "      <td>1</td>\n",
       "      <td>0</td>\n",
       "      <td>0</td>\n",
       "      <td>1</td>\n",
       "    </tr>\n",
       "  </tbody>\n",
       "</table>\n",
       "<p>200 rows × 10 columns</p>\n",
       "</div>"
      ],
      "text/plain": [
       "     Age  Na_to_K   Drug  Sex_F  Sex_M  BP_HIGH  BP_LOW  BP_NORMAL  \\\n",
       "0     23   25.355  drugY      1      0        1       0          0   \n",
       "1     47   13.093  drugC      0      1        0       1          0   \n",
       "2     47   10.114  drugC      0      1        0       1          0   \n",
       "3     28    7.798  drugX      1      0        0       0          1   \n",
       "4     61   18.043  drugY      1      0        0       1          0   \n",
       "..   ...      ...    ...    ...    ...      ...     ...        ...   \n",
       "195   56   11.567  drugC      1      0        0       1          0   \n",
       "196   16   12.006  drugC      0      1        0       1          0   \n",
       "197   52    9.894  drugX      0      1        0       0          1   \n",
       "198   23   14.020  drugX      0      1        0       0          1   \n",
       "199   40   11.349  drugX      1      0        0       1          0   \n",
       "\n",
       "     Cholesterol_HIGH  Cholesterol_NORMAL  \n",
       "0                   1                   0  \n",
       "1                   1                   0  \n",
       "2                   1                   0  \n",
       "3                   1                   0  \n",
       "4                   1                   0  \n",
       "..                ...                 ...  \n",
       "195                 1                   0  \n",
       "196                 1                   0  \n",
       "197                 1                   0  \n",
       "198                 0                   1  \n",
       "199                 0                   1  \n",
       "\n",
       "[200 rows x 10 columns]"
      ]
     },
     "execution_count": 4,
     "metadata": {},
     "output_type": "execute_result"
    }
   ],
   "source": [
    "prepare_data = pd.concat([df,dummies_data],axis = 1)\n",
    "prepare_data.drop(dummies,axis=1,inplace=True)\n",
    "prepare_data"
   ]
  },
  {
   "cell_type": "code",
   "execution_count": 5,
   "id": "f96e67c1",
   "metadata": {
    "execution": {
     "iopub.execute_input": "2022-02-23T12:19:24.802892Z",
     "iopub.status.busy": "2022-02-23T12:19:24.802112Z",
     "iopub.status.idle": "2022-02-23T12:19:26.200712Z",
     "shell.execute_reply": "2022-02-23T12:19:26.200097Z",
     "shell.execute_reply.started": "2022-02-20T10:21:28.734485Z"
    },
    "papermill": {
     "duration": 1.420359,
     "end_time": "2022-02-23T12:19:26.200855",
     "exception": false,
     "start_time": "2022-02-23T12:19:24.780496",
     "status": "completed"
    },
    "tags": []
   },
   "outputs": [],
   "source": [
    "from sklearn import tree\n",
    "from sklearn.metrics import accuracy_score\n",
    "from sklearn.model_selection import train_test_split\n",
    "\n",
    "import matplotlib as plt"
   ]
  },
  {
   "cell_type": "code",
   "execution_count": 6,
   "id": "b7f28091",
   "metadata": {
    "execution": {
     "iopub.execute_input": "2022-02-23T12:19:26.242241Z",
     "iopub.status.busy": "2022-02-23T12:19:26.241262Z",
     "iopub.status.idle": "2022-02-23T12:19:26.244256Z",
     "shell.execute_reply": "2022-02-23T12:19:26.243705Z",
     "shell.execute_reply.started": "2022-02-20T10:20:41.264238Z"
    },
    "papermill": {
     "duration": 0.026668,
     "end_time": "2022-02-23T12:19:26.244397",
     "exception": false,
     "start_time": "2022-02-23T12:19:26.217729",
     "status": "completed"
    },
    "tags": []
   },
   "outputs": [],
   "source": [
    "x = prepare_data.drop(['Age','Drug','Na_to_K'],axis=1).values\n",
    "y = prepare_data['Drug'].values"
   ]
  },
  {
   "cell_type": "code",
   "execution_count": 7,
   "id": "974e682e",
   "metadata": {
    "execution": {
     "iopub.execute_input": "2022-02-23T12:19:26.284339Z",
     "iopub.status.busy": "2022-02-23T12:19:26.283483Z",
     "iopub.status.idle": "2022-02-23T12:19:26.286009Z",
     "shell.execute_reply": "2022-02-23T12:19:26.286517Z",
     "shell.execute_reply.started": "2022-02-20T10:21:59.025535Z"
    },
    "papermill": {
     "duration": 0.025722,
     "end_time": "2022-02-23T12:19:26.286686",
     "exception": false,
     "start_time": "2022-02-23T12:19:26.260964",
     "status": "completed"
    },
    "tags": []
   },
   "outputs": [],
   "source": [
    "x_train,x_test,y_train,y_test = train_test_split(x,y,test_size =0.33,random_state=42)"
   ]
  },
  {
   "cell_type": "code",
   "execution_count": 8,
   "id": "06085bac",
   "metadata": {
    "execution": {
     "iopub.execute_input": "2022-02-23T12:19:26.323490Z",
     "iopub.status.busy": "2022-02-23T12:19:26.322525Z",
     "iopub.status.idle": "2022-02-23T12:19:26.329286Z",
     "shell.execute_reply": "2022-02-23T12:19:26.329850Z",
     "shell.execute_reply.started": "2022-02-20T10:22:22.217917Z"
    },
    "papermill": {
     "duration": 0.026918,
     "end_time": "2022-02-23T12:19:26.330051",
     "exception": false,
     "start_time": "2022-02-23T12:19:26.303133",
     "status": "completed"
    },
    "tags": []
   },
   "outputs": [],
   "source": [
    "clf_gini = tree.DecisionTreeClassifier(criterion='gini')\n",
    "clf_gini = clf_gini.fit(x_train, y_train)"
   ]
  },
  {
   "cell_type": "code",
   "execution_count": 9,
   "id": "17bf9477",
   "metadata": {
    "execution": {
     "iopub.execute_input": "2022-02-23T12:19:26.368818Z",
     "iopub.status.busy": "2022-02-23T12:19:26.367838Z",
     "iopub.status.idle": "2022-02-23T12:19:26.372131Z",
     "shell.execute_reply": "2022-02-23T12:19:26.372585Z",
     "shell.execute_reply.started": "2022-02-20T10:22:39.517705Z"
    },
    "papermill": {
     "duration": 0.026126,
     "end_time": "2022-02-23T12:19:26.372755",
     "exception": false,
     "start_time": "2022-02-23T12:19:26.346629",
     "status": "completed"
    },
    "tags": []
   },
   "outputs": [],
   "source": [
    "y_pred_gini = clf_gini.predict(x_test)"
   ]
  },
  {
   "cell_type": "code",
   "execution_count": 10,
   "id": "3a8dd20d",
   "metadata": {
    "execution": {
     "iopub.execute_input": "2022-02-23T12:19:26.409687Z",
     "iopub.status.busy": "2022-02-23T12:19:26.409037Z",
     "iopub.status.idle": "2022-02-23T12:19:26.414099Z",
     "shell.execute_reply": "2022-02-23T12:19:26.414689Z",
     "shell.execute_reply.started": "2022-02-20T10:22:51.998269Z"
    },
    "papermill": {
     "duration": 0.025373,
     "end_time": "2022-02-23T12:19:26.414856",
     "exception": false,
     "start_time": "2022-02-23T12:19:26.389483",
     "status": "completed"
    },
    "tags": []
   },
   "outputs": [
    {
     "name": "stdout",
     "output_type": "stream",
     "text": [
      "Model accuracy score with criterion gini index: 0.5152\n"
     ]
    }
   ],
   "source": [
    "print('Model accuracy score with criterion gini index: {0:0.4f}'. format(accuracy_score(y_test, y_pred_gini)))"
   ]
  },
  {
   "cell_type": "code",
   "execution_count": 11,
   "id": "43130156",
   "metadata": {
    "execution": {
     "iopub.execute_input": "2022-02-23T12:19:26.452270Z",
     "iopub.status.busy": "2022-02-23T12:19:26.451596Z",
     "iopub.status.idle": "2022-02-23T12:19:27.740934Z",
     "shell.execute_reply": "2022-02-23T12:19:27.741484Z",
     "shell.execute_reply.started": "2022-02-20T10:25:51.563084Z"
    },
    "papermill": {
     "duration": 1.309868,
     "end_time": "2022-02-23T12:19:27.741665",
     "exception": false,
     "start_time": "2022-02-23T12:19:26.431797",
     "status": "completed"
    },
    "tags": []
   },
   "outputs": [
    {
     "data": {
      "text/plain": [
       "[Text(196.51304347826087, 195.696, 'X[2] <= 0.5\\ngini = 0.692\\nsamples = 134\\nvalue = [15, 12, 10, 35, 62]'),\n",
       " Text(116.45217391304348, 152.208, 'X[3] <= 0.5\\ngini = 0.601\\nsamples = 81\\nvalue = [0, 0, 10, 35, 36]'),\n",
       " Text(58.22608695652174, 108.72, 'X[6] <= 0.5\\ngini = 0.485\\nsamples = 41\\nvalue = [0, 0, 0, 24, 17]'),\n",
       " Text(29.11304347826087, 65.232, 'X[0] <= 0.5\\ngini = 0.499\\nsamples = 29\\nvalue = [0, 0, 0, 15, 14]'),\n",
       " Text(14.556521739130435, 21.744, 'gini = 0.498\\nsamples = 15\\nvalue = [0, 0, 0, 7, 8]'),\n",
       " Text(43.66956521739131, 21.744, 'gini = 0.49\\nsamples = 14\\nvalue = [0, 0, 0, 8, 6]'),\n",
       " Text(87.33913043478262, 65.232, 'X[0] <= 0.5\\ngini = 0.375\\nsamples = 12\\nvalue = [0, 0, 0, 9, 3]'),\n",
       " Text(72.78260869565217, 21.744, 'gini = 0.245\\nsamples = 7\\nvalue = [0, 0, 0, 6, 1]'),\n",
       " Text(101.89565217391305, 21.744, 'gini = 0.48\\nsamples = 5\\nvalue = [0, 0, 0, 3, 2]'),\n",
       " Text(174.67826086956524, 108.72, 'X[5] <= 0.5\\ngini = 0.636\\nsamples = 40\\nvalue = [0, 0, 10, 11, 19]'),\n",
       " Text(145.56521739130434, 65.232, 'X[1] <= 0.5\\ngini = 0.495\\nsamples = 20\\nvalue = [0, 0, 0, 11, 9]'),\n",
       " Text(131.0086956521739, 21.744, 'gini = 0.469\\nsamples = 8\\nvalue = [0, 0, 0, 5, 3]'),\n",
       " Text(160.12173913043478, 21.744, 'gini = 0.5\\nsamples = 12\\nvalue = [0, 0, 0, 6, 6]'),\n",
       " Text(203.7913043478261, 65.232, 'X[0] <= 0.5\\ngini = 0.5\\nsamples = 20\\nvalue = [0, 0, 10, 0, 10]'),\n",
       " Text(189.23478260869567, 21.744, 'gini = 0.473\\nsamples = 13\\nvalue = [0, 0, 8, 0, 5]'),\n",
       " Text(218.34782608695653, 21.744, 'gini = 0.408\\nsamples = 7\\nvalue = [0, 0, 2, 0, 5]'),\n",
       " Text(276.5739130434783, 152.208, 'X[1] <= 0.5\\ngini = 0.628\\nsamples = 53\\nvalue = [15, 12, 0, 0, 26]'),\n",
       " Text(247.4608695652174, 108.72, 'X[6] <= 0.5\\ngini = 0.535\\nsamples = 27\\nvalue = [5, 5, 0, 0, 17]'),\n",
       " Text(232.90434782608696, 65.232, 'gini = 0.529\\nsamples = 11\\nvalue = [2, 2, 0, 0, 7]'),\n",
       " Text(262.0173913043478, 65.232, 'gini = 0.539\\nsamples = 16\\nvalue = [3, 3, 0, 0, 10]'),\n",
       " Text(305.68695652173915, 108.72, 'X[5] <= 0.5\\ngini = 0.66\\nsamples = 26\\nvalue = [10, 7, 0, 0, 9]'),\n",
       " Text(291.1304347826087, 65.232, 'gini = 0.651\\nsamples = 13\\nvalue = [5, 3, 0, 0, 5]'),\n",
       " Text(320.24347826086955, 65.232, 'gini = 0.663\\nsamples = 13\\nvalue = [5, 4, 0, 0, 4]')]"
      ]
     },
     "execution_count": 11,
     "metadata": {},
     "output_type": "execute_result"
    },
    {
     "data": {
      "image/png": "[encoded data removed]",
      "text/plain": [
       "<Figure size 432x288 with 1 Axes>"
      ]
     },
     "metadata": {
      "needs_background": "light"
     },
     "output_type": "display_data"
    }
   ],
   "source": [
    "tree.plot_tree(clf_gini)"
   ]
  },
  {
   "cell_type": "code",
   "execution_count": 12,
   "id": "f9392ee1",
   "metadata": {
    "execution": {
     "iopub.execute_input": "2022-02-23T12:19:27.783782Z",
     "iopub.status.busy": "2022-02-23T12:19:27.783036Z",
     "iopub.status.idle": "2022-02-23T12:19:28.712636Z",
     "shell.execute_reply": "2022-02-23T12:19:28.713171Z",
     "shell.execute_reply.started": "2022-02-20T10:27:19.956695Z"
    },
    "papermill": {
     "duration": 0.953323,
     "end_time": "2022-02-23T12:19:28.713347",
     "exception": false,
     "start_time": "2022-02-23T12:19:27.760024",
     "status": "completed"
    },
    "tags": []
   },
   "outputs": [
    {
     "data": {
      "image/svg+xml": "<?xml version=\"1.0\" encoding=\"UTF-8\" standalone=\"no\"?>\n<!DOCTYPE svg PUBLIC \"-//W3C//DTD SVG 1.1//EN\"\n \"http://www.w3.org/Graphics/SVG/1.1/DTD/svg11.dtd\">\n<!-- Generated by graphviz version 2.50.0 (20211209.0339)\n -->\n<!-- Title: Tree Pages: 1 -->\n<svg width=\"2042pt\" height=\"477pt\"\n viewBox=\"0.00 0.00 2042.00 477.00\" xmlns=\"http://www.w3.org/2000/svg\" xmlns:xlink=\"http://www.w3.org/1999/xlink\">\n<g id=\"graph0\" class=\"graph\" transform=\"scale(1 1) rotate(0) translate(4 473)\">\n<title>Tree</title>\n<polygon fill=\"white\" stroke=\"transparent\" points=\"-4,4 -4,-473 2038,-473 2038,4 -4,4\"/>\n<!-- 0 -->\n<g id=\"node1\" class=\"node\">\n<title>0</title>\n<polygon fill=\"none\" stroke=\"black\" points=\"1387.5,-469 1175.5,-469 1175.5,-401 1387.5,-401 1387.5,-469\"/>\n<text text-anchor=\"middle\" x=\"1281.5\" y=\"-453.8\" font-family=\"Times,serif\" font-size=\"14.00\">X[2] &lt;= 0.5</text>\n<text text-anchor=\"middle\" x=\"1281.5\" y=\"-438.8\" font-family=\"Times,serif\" font-size=\"14.00\">gini = 0.692</text>\n<text text-anchor=\"middle\" x=\"1281.5\" y=\"-423.8\" font-family=\"Times,serif\" font-size=\"14.00\">samples = 134</text>\n<text text-anchor=\"middle\" x=\"1281.5\" y=\"-408.8\" font-family=\"Times,serif\" font-size=\"14.00\">value = [15, 12, 10, 35, 62]</text>\n</g>\n<!-- 1 -->\n<g id=\"node2\" class=\"node\">\n<title>1</title>\n<polygon fill=\"none\" stroke=\"black\" points=\"1182.5,-365 988.5,-365 988.5,-297 1182.5,-297 1182.5,-365\"/>\n<text text-anchor=\"middle\" x=\"1085.5\" y=\"-349.8\" font-family=\"Times,serif\" font-size=\"14.00\">X[3] &lt;= 0.5</text>\n<text text-anchor=\"middle\" x=\"1085.5\" y=\"-334.8\" font-family=\"Times,serif\" font-size=\"14.00\">gini = 0.601</text>\n<text text-anchor=\"middle\" x=\"1085.5\" y=\"-319.8\" font-family=\"Times,serif\" font-size=\"14.00\">samples = 81</text>\n<text text-anchor=\"middle\" x=\"1085.5\" y=\"-304.8\" font-family=\"Times,serif\" font-size=\"14.00\">value = [0, 0, 10, 35, 36]</text>\n</g>\n<!-- 0&#45;&gt;1 -->\n<g id=\"edge1\" class=\"edge\">\n<title>0&#45;&gt;1</title>\n<path fill=\"none\" stroke=\"black\" d=\"M1217.86,-400.88C1198.77,-390.95 1177.68,-379.97 1158.05,-369.76\"/>\n<polygon fill=\"black\" stroke=\"black\" points=\"1159.64,-366.64 1149.15,-365.12 1156.41,-372.85 1159.64,-366.64\"/>\n<text text-anchor=\"middle\" x=\"1156.67\" y=\"-385.27\" font-family=\"Times,serif\" font-size=\"14.00\">True</text>\n</g>\n<!-- 16 -->\n<g id=\"node17\" class=\"node\">\n<title>16</title>\n<polygon fill=\"none\" stroke=\"black\" points=\"1576.5,-365 1382.5,-365 1382.5,-297 1576.5,-297 1576.5,-365\"/>\n<text text-anchor=\"middle\" x=\"1479.5\" y=\"-349.8\" font-family=\"Times,serif\" font-size=\"14.00\">X[1] &lt;= 0.5</text>\n<text text-anchor=\"middle\" x=\"1479.5\" y=\"-334.8\" font-family=\"Times,serif\" font-size=\"14.00\">gini = 0.628</text>\n<text text-anchor=\"middle\" x=\"1479.5\" y=\"-319.8\" font-family=\"Times,serif\" font-size=\"14.00\">samples = 53</text>\n<text text-anchor=\"middle\" x=\"1479.5\" y=\"-304.8\" font-family=\"Times,serif\" font-size=\"14.00\">value = [15, 12, 0, 0, 26]</text>\n</g>\n<!-- 0&#45;&gt;16 -->\n<g id=\"edge16\" class=\"edge\">\n<title>0&#45;&gt;16</title>\n<path fill=\"none\" stroke=\"black\" d=\"M1345.78,-400.88C1365.08,-390.95 1386.38,-379.97 1406.21,-369.76\"/>\n<polygon fill=\"black\" stroke=\"black\" points=\"1407.91,-372.82 1415.2,-365.12 1404.71,-366.59 1407.91,-372.82\"/>\n<text text-anchor=\"middle\" x=\"1407.58\" y=\"-385.24\" font-family=\"Times,serif\" font-size=\"14.00\">False</text>\n</g>\n<!-- 2 -->\n<g id=\"node3\" class=\"node\">\n<title>2</title>\n<polygon fill=\"none\" stroke=\"black\" points=\"643,-261 458,-261 458,-193 643,-193 643,-261\"/>\n<text text-anchor=\"middle\" x=\"550.5\" y=\"-245.8\" font-family=\"Times,serif\" font-size=\"14.00\">X[6] &lt;= 0.5</text>\n<text text-anchor=\"middle\" x=\"550.5\" y=\"-230.8\" font-family=\"Times,serif\" font-size=\"14.00\">gini = 0.485</text>\n<text text-anchor=\"middle\" x=\"550.5\" y=\"-215.8\" font-family=\"Times,serif\" font-size=\"14.00\">samples = 41</text>\n<text text-anchor=\"middle\" x=\"550.5\" y=\"-200.8\" font-family=\"Times,serif\" font-size=\"14.00\">value = [0, 0, 0, 24, 17]</text>\n</g>\n<!-- 1&#45;&gt;2 -->\n<g id=\"edge2\" class=\"edge\">\n<title>1&#45;&gt;2</title>\n<path fill=\"none\" stroke=\"black\" d=\"M988.31,-311.47C893.6,-293.41 750.14,-266.06 653.5,-247.64\"/>\n<polygon fill=\"black\" stroke=\"black\" points=\"653.9,-244.15 643.42,-245.72 652.58,-251.03 653.9,-244.15\"/>\n</g>\n<!-- 9 -->\n<g id=\"node10\" class=\"node\">\n<title>9</title>\n<polygon fill=\"none\" stroke=\"black\" points=\"1182.5,-261 988.5,-261 988.5,-193 1182.5,-193 1182.5,-261\"/>\n<text text-anchor=\"middle\" x=\"1085.5\" y=\"-245.8\" font-family=\"Times,serif\" font-size=\"14.00\">X[5] &lt;= 0.5</text>\n<text text-anchor=\"middle\" x=\"1085.5\" y=\"-230.8\" font-family=\"Times,serif\" font-size=\"14.00\">gini = 0.636</text>\n<text text-anchor=\"middle\" x=\"1085.5\" y=\"-215.8\" font-family=\"Times,serif\" font-size=\"14.00\">samples = 40</text>\n<text text-anchor=\"middle\" x=\"1085.5\" y=\"-200.8\" font-family=\"Times,serif\" font-size=\"14.00\">value = [0, 0, 10, 11, 19]</text>\n</g>\n<!-- 1&#45;&gt;9 -->\n<g id=\"edge9\" class=\"edge\">\n<title>1&#45;&gt;9</title>\n<path fill=\"none\" stroke=\"black\" d=\"M1085.5,-296.88C1085.5,-288.78 1085.5,-279.98 1085.5,-271.47\"/>\n<polygon fill=\"black\" stroke=\"black\" points=\"1089,-271.3 1085.5,-261.3 1082,-271.3 1089,-271.3\"/>\n</g>\n<!-- 3 -->\n<g id=\"node4\" class=\"node\">\n<title>3</title>\n<polygon fill=\"none\" stroke=\"black\" points=\"361,-157 176,-157 176,-89 361,-89 361,-157\"/>\n<text text-anchor=\"middle\" x=\"268.5\" y=\"-141.8\" font-family=\"Times,serif\" font-size=\"14.00\">X[0] &lt;= 0.5</text>\n<text text-anchor=\"middle\" x=\"268.5\" y=\"-126.8\" font-family=\"Times,serif\" font-size=\"14.00\">gini = 0.499</text>\n<text text-anchor=\"middle\" x=\"268.5\" y=\"-111.8\" font-family=\"Times,serif\" font-size=\"14.00\">samples = 29</text>\n<text text-anchor=\"middle\" x=\"268.5\" y=\"-96.8\" font-family=\"Times,serif\" font-size=\"14.00\">value = [0, 0, 0, 15, 14]</text>\n</g>\n<!-- 2&#45;&gt;3 -->\n<g id=\"edge3\" class=\"edge\">\n<title>2&#45;&gt;3</title>\n<path fill=\"none\" stroke=\"black\" d=\"M458.94,-192.88C430.48,-182.59 398.94,-171.18 369.84,-160.66\"/>\n<polygon fill=\"black\" stroke=\"black\" points=\"370.67,-157.23 360.08,-157.12 368.29,-163.82 370.67,-157.23\"/>\n</g>\n<!-- 6 -->\n<g id=\"node7\" class=\"node\">\n<title>6</title>\n<polygon fill=\"none\" stroke=\"black\" points=\"634,-157 467,-157 467,-89 634,-89 634,-157\"/>\n<text text-anchor=\"middle\" x=\"550.5\" y=\"-141.8\" font-family=\"Times,serif\" font-size=\"14.00\">X[0] &lt;= 0.5</text>\n<text text-anchor=\"middle\" x=\"550.5\" y=\"-126.8\" font-family=\"Times,serif\" font-size=\"14.00\">gini = 0.375</text>\n<text text-anchor=\"middle\" x=\"550.5\" y=\"-111.8\" font-family=\"Times,serif\" font-size=\"14.00\">samples = 12</text>\n<text text-anchor=\"middle\" x=\"550.5\" y=\"-96.8\" font-family=\"Times,serif\" font-size=\"14.00\">value = [0, 0, 0, 9, 3]</text>\n</g>\n<!-- 2&#45;&gt;6 -->\n<g id=\"edge6\" class=\"edge\">\n<title>2&#45;&gt;6</title>\n<path fill=\"none\" stroke=\"black\" d=\"M550.5,-192.88C550.5,-184.78 550.5,-175.98 550.5,-167.47\"/>\n<polygon fill=\"black\" stroke=\"black\" points=\"554,-167.3 550.5,-157.3 547,-167.3 554,-167.3\"/>\n</g>\n<!-- 4 -->\n<g id=\"node5\" class=\"node\">\n<title>4</title>\n<polygon fill=\"none\" stroke=\"black\" points=\"167,-53 0,-53 0,0 167,0 167,-53\"/>\n<text text-anchor=\"middle\" x=\"83.5\" y=\"-37.8\" font-family=\"Times,serif\" font-size=\"14.00\">gini = 0.498</text>\n<text text-anchor=\"middle\" x=\"83.5\" y=\"-22.8\" font-family=\"Times,serif\" font-size=\"14.00\">samples = 15</text>\n<text text-anchor=\"middle\" x=\"83.5\" y=\"-7.8\" font-family=\"Times,serif\" font-size=\"14.00\">value = [0, 0, 0, 7, 8]</text>\n</g>\n<!-- 3&#45;&gt;4 -->\n<g id=\"edge4\" class=\"edge\">\n<title>3&#45;&gt;4</title>\n<path fill=\"none\" stroke=\"black\" d=\"M203.8,-88.95C183.92,-78.79 162.15,-67.67 142.66,-57.72\"/>\n<polygon fill=\"black\" stroke=\"black\" points=\"144.09,-54.52 133.59,-53.09 140.9,-60.75 144.09,-54.52\"/>\n</g>\n<!-- 5 -->\n<g id=\"node6\" class=\"node\">\n<title>5</title>\n<polygon fill=\"none\" stroke=\"black\" points=\"352,-53 185,-53 185,0 352,0 352,-53\"/>\n<text text-anchor=\"middle\" x=\"268.5\" y=\"-37.8\" font-family=\"Times,serif\" font-size=\"14.00\">gini = 0.49</text>\n<text text-anchor=\"middle\" x=\"268.5\" y=\"-22.8\" font-family=\"Times,serif\" font-size=\"14.00\">samples = 14</text>\n<text text-anchor=\"middle\" x=\"268.5\" y=\"-7.8\" font-family=\"Times,serif\" font-size=\"14.00\">value = [0, 0, 0, 8, 6]</text>\n</g>\n<!-- 3&#45;&gt;5 -->\n<g id=\"edge5\" class=\"edge\">\n<title>3&#45;&gt;5</title>\n<path fill=\"none\" stroke=\"black\" d=\"M268.5,-88.95C268.5,-80.72 268.5,-71.85 268.5,-63.48\"/>\n<polygon fill=\"black\" stroke=\"black\" points=\"272,-63.24 268.5,-53.24 265,-63.24 272,-63.24\"/>\n</g>\n<!-- 7 -->\n<g id=\"node8\" class=\"node\">\n<title>7</title>\n<polygon fill=\"none\" stroke=\"black\" points=\"537,-53 370,-53 370,0 537,0 537,-53\"/>\n<text text-anchor=\"middle\" x=\"453.5\" y=\"-37.8\" font-family=\"Times,serif\" font-size=\"14.00\">gini = 0.245</text>\n<text text-anchor=\"middle\" x=\"453.5\" y=\"-22.8\" font-family=\"Times,serif\" font-size=\"14.00\">samples = 7</text>\n<text text-anchor=\"middle\" x=\"453.5\" y=\"-7.8\" font-family=\"Times,serif\" font-size=\"14.00\">value = [0, 0, 0, 6, 1]</text>\n</g>\n<!-- 6&#45;&gt;7 -->\n<g id=\"edge7\" class=\"edge\">\n<title>6&#45;&gt;7</title>\n<path fill=\"none\" stroke=\"black\" d=\"M516.57,-88.95C507.09,-79.71 496.79,-69.67 487.31,-60.44\"/>\n<polygon fill=\"black\" stroke=\"black\" points=\"489.52,-57.71 479.92,-53.24 484.64,-62.72 489.52,-57.71\"/>\n</g>\n<!-- 8 -->\n<g id=\"node9\" class=\"node\">\n<title>8</title>\n<polygon fill=\"none\" stroke=\"black\" points=\"722,-53 555,-53 555,0 722,0 722,-53\"/>\n<text text-anchor=\"middle\" x=\"638.5\" y=\"-37.8\" font-family=\"Times,serif\" font-size=\"14.00\">gini = 0.48</text>\n<text text-anchor=\"middle\" x=\"638.5\" y=\"-22.8\" font-family=\"Times,serif\" font-size=\"14.00\">samples = 5</text>\n<text text-anchor=\"middle\" x=\"638.5\" y=\"-7.8\" font-family=\"Times,serif\" font-size=\"14.00\">value = [0, 0, 0, 3, 2]</text>\n</g>\n<!-- 6&#45;&gt;8 -->\n<g id=\"edge8\" class=\"edge\">\n<title>6&#45;&gt;8</title>\n<path fill=\"none\" stroke=\"black\" d=\"M581.28,-88.95C589.8,-79.8 599.04,-69.87 607.57,-60.71\"/>\n<polygon fill=\"black\" stroke=\"black\" points=\"610.28,-62.94 614.53,-53.24 605.16,-58.17 610.28,-62.94\"/>\n</g>\n<!-- 10 -->\n<g id=\"node11\" class=\"node\">\n<title>10</title>\n<polygon fill=\"none\" stroke=\"black\" points=\"1083.5,-157 907.5,-157 907.5,-89 1083.5,-89 1083.5,-157\"/>\n<text text-anchor=\"middle\" x=\"995.5\" y=\"-141.8\" font-family=\"Times,serif\" font-size=\"14.00\">X[1] &lt;= 0.5</text>\n<text text-anchor=\"middle\" x=\"995.5\" y=\"-126.8\" font-family=\"Times,serif\" font-size=\"14.00\">gini = 0.495</text>\n<text text-anchor=\"middle\" x=\"995.5\" y=\"-111.8\" font-family=\"Times,serif\" font-size=\"14.00\">samples = 20</text>\n<text text-anchor=\"middle\" x=\"995.5\" y=\"-96.8\" font-family=\"Times,serif\" font-size=\"14.00\">value = [0, 0, 0, 11, 9]</text>\n</g>\n<!-- 9&#45;&gt;10 -->\n<g id=\"edge10\" class=\"edge\">\n<title>9&#45;&gt;10</title>\n<path fill=\"none\" stroke=\"black\" d=\"M1056.28,-192.88C1048.42,-183.98 1039.83,-174.24 1031.64,-164.96\"/>\n<polygon fill=\"black\" stroke=\"black\" points=\"1034.12,-162.48 1024.88,-157.3 1028.87,-167.11 1034.12,-162.48\"/>\n</g>\n<!-- 13 -->\n<g id=\"node14\" class=\"node\">\n<title>13</title>\n<polygon fill=\"none\" stroke=\"black\" points=\"1286,-157 1101,-157 1101,-89 1286,-89 1286,-157\"/>\n<text text-anchor=\"middle\" x=\"1193.5\" y=\"-141.8\" font-family=\"Times,serif\" font-size=\"14.00\">X[0] &lt;= 0.5</text>\n<text text-anchor=\"middle\" x=\"1193.5\" y=\"-126.8\" font-family=\"Times,serif\" font-size=\"14.00\">gini = 0.5</text>\n<text text-anchor=\"middle\" x=\"1193.5\" y=\"-111.8\" font-family=\"Times,serif\" font-size=\"14.00\">samples = 20</text>\n<text text-anchor=\"middle\" x=\"1193.5\" y=\"-96.8\" font-family=\"Times,serif\" font-size=\"14.00\">value = [0, 0, 10, 0, 10]</text>\n</g>\n<!-- 9&#45;&gt;13 -->\n<g id=\"edge13\" class=\"edge\">\n<title>9&#45;&gt;13</title>\n<path fill=\"none\" stroke=\"black\" d=\"M1120.56,-192.88C1130.18,-183.8 1140.72,-173.85 1150.72,-164.4\"/>\n<polygon fill=\"black\" stroke=\"black\" points=\"1153.37,-166.71 1158.24,-157.3 1148.57,-161.62 1153.37,-166.71\"/>\n</g>\n<!-- 11 -->\n<g id=\"node12\" class=\"node\">\n<title>11</title>\n<polygon fill=\"none\" stroke=\"black\" points=\"907,-53 740,-53 740,0 907,0 907,-53\"/>\n<text text-anchor=\"middle\" x=\"823.5\" y=\"-37.8\" font-family=\"Times,serif\" font-size=\"14.00\">gini = 0.469</text>\n<text text-anchor=\"middle\" x=\"823.5\" y=\"-22.8\" font-family=\"Times,serif\" font-size=\"14.00\">samples = 8</text>\n<text text-anchor=\"middle\" x=\"823.5\" y=\"-7.8\" font-family=\"Times,serif\" font-size=\"14.00\">value = [0, 0, 0, 5, 3]</text>\n</g>\n<!-- 10&#45;&gt;11 -->\n<g id=\"edge11\" class=\"edge\">\n<title>10&#45;&gt;11</title>\n<path fill=\"none\" stroke=\"black\" d=\"M935.34,-88.95C917.11,-78.93 897.17,-67.98 879.24,-58.13\"/>\n<polygon fill=\"black\" stroke=\"black\" points=\"880.52,-54.83 870.07,-53.09 877.15,-60.97 880.52,-54.83\"/>\n</g>\n<!-- 12 -->\n<g id=\"node13\" class=\"node\">\n<title>12</title>\n<polygon fill=\"none\" stroke=\"black\" points=\"1092,-53 925,-53 925,0 1092,0 1092,-53\"/>\n<text text-anchor=\"middle\" x=\"1008.5\" y=\"-37.8\" font-family=\"Times,serif\" font-size=\"14.00\">gini = 0.5</text>\n<text text-anchor=\"middle\" x=\"1008.5\" y=\"-22.8\" font-family=\"Times,serif\" font-size=\"14.00\">samples = 12</text>\n<text text-anchor=\"middle\" x=\"1008.5\" y=\"-7.8\" font-family=\"Times,serif\" font-size=\"14.00\">value = [0, 0, 0, 6, 6]</text>\n</g>\n<!-- 10&#45;&gt;12 -->\n<g id=\"edge12\" class=\"edge\">\n<title>10&#45;&gt;12</title>\n<path fill=\"none\" stroke=\"black\" d=\"M1000.05,-88.95C1001.19,-80.62 1002.43,-71.65 1003.59,-63.2\"/>\n<polygon fill=\"black\" stroke=\"black\" points=\"1007.06,-63.62 1004.96,-53.24 1000.13,-62.67 1007.06,-63.62\"/>\n</g>\n<!-- 14 -->\n<g id=\"node15\" class=\"node\">\n<title>14</title>\n<polygon fill=\"none\" stroke=\"black\" points=\"1277,-53 1110,-53 1110,0 1277,0 1277,-53\"/>\n<text text-anchor=\"middle\" x=\"1193.5\" y=\"-37.8\" font-family=\"Times,serif\" font-size=\"14.00\">gini = 0.473</text>\n<text text-anchor=\"middle\" x=\"1193.5\" y=\"-22.8\" font-family=\"Times,serif\" font-size=\"14.00\">samples = 13</text>\n<text text-anchor=\"middle\" x=\"1193.5\" y=\"-7.8\" font-family=\"Times,serif\" font-size=\"14.00\">value = [0, 0, 8, 0, 5]</text>\n</g>\n<!-- 13&#45;&gt;14 -->\n<g id=\"edge14\" class=\"edge\">\n<title>13&#45;&gt;14</title>\n<path fill=\"none\" stroke=\"black\" d=\"M1193.5,-88.95C1193.5,-80.72 1193.5,-71.85 1193.5,-63.48\"/>\n<polygon fill=\"black\" stroke=\"black\" points=\"1197,-63.24 1193.5,-53.24 1190,-63.24 1197,-63.24\"/>\n</g>\n<!-- 15 -->\n<g id=\"node16\" class=\"node\">\n<title>15</title>\n<polygon fill=\"none\" stroke=\"black\" points=\"1462,-53 1295,-53 1295,0 1462,0 1462,-53\"/>\n<text text-anchor=\"middle\" x=\"1378.5\" y=\"-37.8\" font-family=\"Times,serif\" font-size=\"14.00\">gini = 0.408</text>\n<text text-anchor=\"middle\" x=\"1378.5\" y=\"-22.8\" font-family=\"Times,serif\" font-size=\"14.00\">samples = 7</text>\n<text text-anchor=\"middle\" x=\"1378.5\" y=\"-7.8\" font-family=\"Times,serif\" font-size=\"14.00\">value = [0, 0, 2, 0, 5]</text>\n</g>\n<!-- 13&#45;&gt;15 -->\n<g id=\"edge15\" class=\"edge\">\n<title>13&#45;&gt;15</title>\n<path fill=\"none\" stroke=\"black\" d=\"M1258.2,-88.95C1278.08,-78.79 1299.85,-67.67 1319.34,-57.72\"/>\n<polygon fill=\"black\" stroke=\"black\" points=\"1321.1,-60.75 1328.41,-53.09 1317.91,-54.52 1321.1,-60.75\"/>\n</g>\n<!-- 17 -->\n<g id=\"node18\" class=\"node\">\n<title>17</title>\n<polygon fill=\"none\" stroke=\"black\" points=\"1567.5,-261 1391.5,-261 1391.5,-193 1567.5,-193 1567.5,-261\"/>\n<text text-anchor=\"middle\" x=\"1479.5\" y=\"-245.8\" font-family=\"Times,serif\" font-size=\"14.00\">X[6] &lt;= 0.5</text>\n<text text-anchor=\"middle\" x=\"1479.5\" y=\"-230.8\" font-family=\"Times,serif\" font-size=\"14.00\">gini = 0.535</text>\n<text text-anchor=\"middle\" x=\"1479.5\" y=\"-215.8\" font-family=\"Times,serif\" font-size=\"14.00\">samples = 27</text>\n<text text-anchor=\"middle\" x=\"1479.5\" y=\"-200.8\" font-family=\"Times,serif\" font-size=\"14.00\">value = [5, 5, 0, 0, 17]</text>\n</g>\n<!-- 16&#45;&gt;17 -->\n<g id=\"edge17\" class=\"edge\">\n<title>16&#45;&gt;17</title>\n<path fill=\"none\" stroke=\"black\" d=\"M1479.5,-296.88C1479.5,-288.78 1479.5,-279.98 1479.5,-271.47\"/>\n<polygon fill=\"black\" stroke=\"black\" points=\"1483,-271.3 1479.5,-261.3 1476,-271.3 1483,-271.3\"/>\n</g>\n<!-- 20 -->\n<g id=\"node21\" class=\"node\">\n<title>20</title>\n<polygon fill=\"none\" stroke=\"black\" points=\"1853.5,-261 1677.5,-261 1677.5,-193 1853.5,-193 1853.5,-261\"/>\n<text text-anchor=\"middle\" x=\"1765.5\" y=\"-245.8\" font-family=\"Times,serif\" font-size=\"14.00\">X[5] &lt;= 0.5</text>\n<text text-anchor=\"middle\" x=\"1765.5\" y=\"-230.8\" font-family=\"Times,serif\" font-size=\"14.00\">gini = 0.66</text>\n<text text-anchor=\"middle\" x=\"1765.5\" y=\"-215.8\" font-family=\"Times,serif\" font-size=\"14.00\">samples = 26</text>\n<text text-anchor=\"middle\" x=\"1765.5\" y=\"-200.8\" font-family=\"Times,serif\" font-size=\"14.00\">value = [10, 7, 0, 0, 9]</text>\n</g>\n<!-- 16&#45;&gt;20 -->\n<g id=\"edge20\" class=\"edge\">\n<title>16&#45;&gt;20</title>\n<path fill=\"none\" stroke=\"black\" d=\"M1572.36,-296.88C1602.95,-285.97 1637.06,-273.81 1667.99,-262.78\"/>\n<polygon fill=\"black\" stroke=\"black\" points=\"1669.24,-266.05 1677.48,-259.39 1666.89,-259.45 1669.24,-266.05\"/>\n</g>\n<!-- 18 -->\n<g id=\"node19\" class=\"node\">\n<title>18</title>\n<polygon fill=\"none\" stroke=\"black\" points=\"1471,-149.5 1304,-149.5 1304,-96.5 1471,-96.5 1471,-149.5\"/>\n<text text-anchor=\"middle\" x=\"1387.5\" y=\"-134.3\" font-family=\"Times,serif\" font-size=\"14.00\">gini = 0.529</text>\n<text text-anchor=\"middle\" x=\"1387.5\" y=\"-119.3\" font-family=\"Times,serif\" font-size=\"14.00\">samples = 11</text>\n<text text-anchor=\"middle\" x=\"1387.5\" y=\"-104.3\" font-family=\"Times,serif\" font-size=\"14.00\">value = [2, 2, 0, 0, 7]</text>\n</g>\n<!-- 17&#45;&gt;18 -->\n<g id=\"edge18\" class=\"edge\">\n<title>17&#45;&gt;18</title>\n<path fill=\"none\" stroke=\"black\" d=\"M1449.63,-192.88C1439.31,-181.45 1427.76,-168.63 1417.44,-157.19\"/>\n<polygon fill=\"black\" stroke=\"black\" points=\"1419.81,-154.6 1410.52,-149.52 1414.62,-159.29 1419.81,-154.6\"/>\n</g>\n<!-- 19 -->\n<g id=\"node20\" class=\"node\">\n<title>19</title>\n<polygon fill=\"none\" stroke=\"black\" points=\"1664.5,-149.5 1488.5,-149.5 1488.5,-96.5 1664.5,-96.5 1664.5,-149.5\"/>\n<text text-anchor=\"middle\" x=\"1576.5\" y=\"-134.3\" font-family=\"Times,serif\" font-size=\"14.00\">gini = 0.539</text>\n<text text-anchor=\"middle\" x=\"1576.5\" y=\"-119.3\" font-family=\"Times,serif\" font-size=\"14.00\">samples = 16</text>\n<text text-anchor=\"middle\" x=\"1576.5\" y=\"-104.3\" font-family=\"Times,serif\" font-size=\"14.00\">value = [3, 3, 0, 0, 10]</text>\n</g>\n<!-- 17&#45;&gt;19 -->\n<g id=\"edge19\" class=\"edge\">\n<title>17&#45;&gt;19</title>\n<path fill=\"none\" stroke=\"black\" d=\"M1510.99,-192.88C1521.97,-181.34 1534.29,-168.39 1545.25,-156.86\"/>\n<polygon fill=\"black\" stroke=\"black\" points=\"1547.88,-159.18 1552.23,-149.52 1542.8,-154.35 1547.88,-159.18\"/>\n</g>\n<!-- 21 -->\n<g id=\"node22\" class=\"node\">\n<title>21</title>\n<polygon fill=\"none\" stroke=\"black\" points=\"1849,-149.5 1682,-149.5 1682,-96.5 1849,-96.5 1849,-149.5\"/>\n<text text-anchor=\"middle\" x=\"1765.5\" y=\"-134.3\" font-family=\"Times,serif\" font-size=\"14.00\">gini = 0.651</text>\n<text text-anchor=\"middle\" x=\"1765.5\" y=\"-119.3\" font-family=\"Times,serif\" font-size=\"14.00\">samples = 13</text>\n<text text-anchor=\"middle\" x=\"1765.5\" y=\"-104.3\" font-family=\"Times,serif\" font-size=\"14.00\">value = [5, 3, 0, 0, 5]</text>\n</g>\n<!-- 20&#45;&gt;21 -->\n<g id=\"edge21\" class=\"edge\">\n<title>20&#45;&gt;21</title>\n<path fill=\"none\" stroke=\"black\" d=\"M1765.5,-192.88C1765.5,-182.33 1765.5,-170.6 1765.5,-159.85\"/>\n<polygon fill=\"black\" stroke=\"black\" points=\"1769,-159.52 1765.5,-149.52 1762,-159.52 1769,-159.52\"/>\n</g>\n<!-- 22 -->\n<g id=\"node23\" class=\"node\">\n<title>22</title>\n<polygon fill=\"none\" stroke=\"black\" points=\"2034,-149.5 1867,-149.5 1867,-96.5 2034,-96.5 2034,-149.5\"/>\n<text text-anchor=\"middle\" x=\"1950.5\" y=\"-134.3\" font-family=\"Times,serif\" font-size=\"14.00\">gini = 0.663</text>\n<text text-anchor=\"middle\" x=\"1950.5\" y=\"-119.3\" font-family=\"Times,serif\" font-size=\"14.00\">samples = 13</text>\n<text text-anchor=\"middle\" x=\"1950.5\" y=\"-104.3\" font-family=\"Times,serif\" font-size=\"14.00\">value = [5, 4, 0, 0, 4]</text>\n</g>\n<!-- 20&#45;&gt;22 -->\n<g id=\"edge22\" class=\"edge\">\n<title>20&#45;&gt;22</title>\n<path fill=\"none\" stroke=\"black\" d=\"M1825.56,-192.88C1848,-180.51 1873.36,-166.53 1895.34,-154.41\"/>\n<polygon fill=\"black\" stroke=\"black\" points=\"1897.15,-157.41 1904.21,-149.52 1893.77,-151.28 1897.15,-157.41\"/>\n</g>\n</g>\n</svg>\n",
      "text/plain": [
       "<graphviz.files.Source at 0x7f97f5b175d0>"
      ]
     },
     "execution_count": 12,
     "metadata": {},
     "output_type": "execute_result"
    }
   ],
   "source": [
    "import graphviz \n",
    "dot_data = tree.export_graphviz(clf_gini, out_file=None) \n",
    "graph = graphviz.Source(dot_data) \n",
    "graph.render(\"Drug\") \n",
    "graph"
   ]
  },
  {
   "cell_type": "code",
   "execution_count": null,
   "id": "be879f83",
   "metadata": {
    "papermill": {
     "duration": 0.01897,
     "end_time": "2022-02-23T12:19:28.752198",
     "exception": false,
     "start_time": "2022-02-23T12:19:28.733228",
     "status": "completed"
    },
    "tags": []
   },
   "outputs": [],
   "source": []
  }
 ],
 "metadata": {
  "kernelspec": {
   "display_name": "Python 3",
   "language": "python",
   "name": "python3"
  },
  "language_info": {
   "codemirror_mode": {
    "name": "ipython",
    "version": 3
   },
   "file_extension": ".py",
   "mimetype": "text/x-python",
   "name": "python",
   "nbconvert_exporter": "python",
   "pygments_lexer": "ipython3",
   "version": "3.7.12"
  },
  "papermill": {
   "default_parameters": {},
   "duration": 15.253433,
   "end_time": "2022-02-23T12:19:29.583154",
   "environment_variables": {},
   "exception": null,
   "input_path": "__notebook__.ipynb",
   "output_path": "__notebook__.ipynb",
   "parameters": {},
   "start_time": "2022-02-23T12:19:14.329721",
   "version": "2.3.3"
  }
 },
 "nbformat": 4,
 "nbformat_minor": 5
}
