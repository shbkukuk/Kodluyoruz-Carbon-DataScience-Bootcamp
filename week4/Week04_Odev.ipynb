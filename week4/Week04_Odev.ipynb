{
 "cells": [
  {
   "cell_type": "markdown",
   "metadata": {
    "collapsed": true,
    "pycharm": {
     "name": "#%% md\n"
    }
   },
   "source": [
    "# ÖDEV 1: PCA yardımı ile Classification,\n",
    "\n",
    "Bu ödevde \"Credit Risk Prediction\" veri setini kullanacağız. Amacımız, verinin boyut sayısını düşürerek olabildiğince yüksek accuracy değerini alabilmek. Aşağıda verinin okunma ve temizlenme kısmını hazırlayıp vereceğim. Devamında ise yapmanız gerekenler:\n",
    "\n",
    "1. PCA kullanarak verinin boyutunu düşürmek\n",
    "    * Önce explained varience ratio değerini inceleyerek veriyi kaç boyuta düşürebileceğini kontrol et.\n",
    "    * Daha sonra farklı boyutlarda denemeler yaparak boyutu düşürülmüş verileri elde et.\n",
    "2. Classification modellerini dene\n",
    "    * Logistic Regression\n",
    "    * Random Forest\n",
    "    * ve eğer istersen herhangi bir modelle daha\n",
    "\n",
    "İsteğe bağlı olarak, verinin boyutunu düşürmek için diğer yöntemleri de kullanıp en yüksek accuracy değerini almayı deneyebilirsin."
   ]
  },
  {
   "cell_type": "code",
   "execution_count": 1,
   "metadata": {
    "collapsed": false,
    "pycharm": {
     "name": "#%%\n"
    }
   },
   "outputs": [],
   "source": [
    "import pandas as pd\n",
    "import numpy as np\n",
    "import matplotlib.pyplot as plt"
   ]
  },
  {
   "cell_type": "code",
   "execution_count": 2,
   "metadata": {
    "collapsed": false,
    "pycharm": {
     "name": "#%%\n"
    }
   },
   "outputs": [],
   "source": [
    "df: pd.DataFrame = pd.read_csv('./credit_risk_dataset.csv')"
   ]
  },
  {
   "cell_type": "code",
   "execution_count": 3,
   "metadata": {
    "collapsed": false,
    "pycharm": {
     "name": "#%%\n"
    }
   },
   "outputs": [
    {
     "name": "stdout",
     "output_type": "stream",
     "text": [
      "person_age                       0\n",
      "person_income                    0\n",
      "person_home_ownership            0\n",
      "person_emp_length              895\n",
      "loan_intent                      0\n",
      "loan_grade                       0\n",
      "loan_amnt                        0\n",
      "loan_int_rate                 3116\n",
      "loan_status                      0\n",
      "loan_percent_income              0\n",
      "cb_person_default_on_file        0\n",
      "cb_person_cred_hist_length       0\n",
      "dtype: int64\n"
     ]
    }
   ],
   "source": [
    "print(df.isnull().sum())"
   ]
  },
  {
   "cell_type": "code",
   "execution_count": 4,
   "metadata": {
    "collapsed": false,
    "pycharm": {
     "name": "#%%\n"
    }
   },
   "outputs": [],
   "source": [
    "# Null değerleri sütun ortalaması ile dolduruyoruz\n",
    "df[\"person_emp_length\"].fillna(df[\"person_emp_length\"].median(), inplace=True)\n",
    "df[\"loan_int_rate\"].fillna(df[\"loan_int_rate\"].median(), inplace=True)"
   ]
  },
  {
   "cell_type": "code",
   "execution_count": 5,
   "metadata": {
    "collapsed": false,
    "pycharm": {
     "name": "#%%\n"
    }
   },
   "outputs": [
    {
     "data": {
      "text/plain": [
       "165"
      ]
     },
     "execution_count": 5,
     "metadata": {},
     "output_type": "execute_result"
    }
   ],
   "source": [
    "df.duplicated().sum()"
   ]
  },
  {
   "cell_type": "code",
   "execution_count": 6,
   "metadata": {
    "collapsed": false,
    "pycharm": {
     "name": "#%%\n"
    }
   },
   "outputs": [],
   "source": [
    "df.drop_duplicates(inplace=True)"
   ]
  },
  {
   "cell_type": "code",
   "execution_count": 7,
   "metadata": {
    "collapsed": false,
    "pycharm": {
     "name": "#%%\n"
    }
   },
   "outputs": [
    {
     "data": {
      "text/html": [
       "<div>\n",
       "<style scoped>\n",
       "    .dataframe tbody tr th:only-of-type {\n",
       "        vertical-align: middle;\n",
       "    }\n",
       "\n",
       "    .dataframe tbody tr th {\n",
       "        vertical-align: top;\n",
       "    }\n",
       "\n",
       "    .dataframe thead th {\n",
       "        text-align: right;\n",
       "    }\n",
       "</style>\n",
       "<table border=\"1\" class=\"dataframe\">\n",
       "  <thead>\n",
       "    <tr style=\"text-align: right;\">\n",
       "      <th></th>\n",
       "      <th>count</th>\n",
       "      <th>mean</th>\n",
       "      <th>std</th>\n",
       "      <th>min</th>\n",
       "      <th>25%</th>\n",
       "      <th>50%</th>\n",
       "      <th>75%</th>\n",
       "      <th>max</th>\n",
       "    </tr>\n",
       "  </thead>\n",
       "  <tbody>\n",
       "    <tr>\n",
       "      <th>person_age</th>\n",
       "      <td>32416.0</td>\n",
       "      <td>27.747008</td>\n",
       "      <td>6.354100</td>\n",
       "      <td>20.00</td>\n",
       "      <td>23.00</td>\n",
       "      <td>26.00</td>\n",
       "      <td>30.00</td>\n",
       "      <td>144.00</td>\n",
       "    </tr>\n",
       "    <tr>\n",
       "      <th>person_income</th>\n",
       "      <td>32416.0</td>\n",
       "      <td>66091.640826</td>\n",
       "      <td>62015.580269</td>\n",
       "      <td>4000.00</td>\n",
       "      <td>38542.00</td>\n",
       "      <td>55000.00</td>\n",
       "      <td>79218.00</td>\n",
       "      <td>6000000.00</td>\n",
       "    </tr>\n",
       "    <tr>\n",
       "      <th>person_emp_length</th>\n",
       "      <td>32416.0</td>\n",
       "      <td>4.768880</td>\n",
       "      <td>4.090411</td>\n",
       "      <td>0.00</td>\n",
       "      <td>2.00</td>\n",
       "      <td>4.00</td>\n",
       "      <td>7.00</td>\n",
       "      <td>123.00</td>\n",
       "    </tr>\n",
       "    <tr>\n",
       "      <th>loan_amnt</th>\n",
       "      <td>32416.0</td>\n",
       "      <td>9593.845632</td>\n",
       "      <td>6322.730241</td>\n",
       "      <td>500.00</td>\n",
       "      <td>5000.00</td>\n",
       "      <td>8000.00</td>\n",
       "      <td>12250.00</td>\n",
       "      <td>35000.00</td>\n",
       "    </tr>\n",
       "    <tr>\n",
       "      <th>loan_int_rate</th>\n",
       "      <td>32416.0</td>\n",
       "      <td>11.014662</td>\n",
       "      <td>3.083050</td>\n",
       "      <td>5.42</td>\n",
       "      <td>8.49</td>\n",
       "      <td>10.99</td>\n",
       "      <td>13.11</td>\n",
       "      <td>23.22</td>\n",
       "    </tr>\n",
       "    <tr>\n",
       "      <th>loan_status</th>\n",
       "      <td>32416.0</td>\n",
       "      <td>0.218688</td>\n",
       "      <td>0.413363</td>\n",
       "      <td>0.00</td>\n",
       "      <td>0.00</td>\n",
       "      <td>0.00</td>\n",
       "      <td>0.00</td>\n",
       "      <td>1.00</td>\n",
       "    </tr>\n",
       "    <tr>\n",
       "      <th>loan_percent_income</th>\n",
       "      <td>32416.0</td>\n",
       "      <td>0.170250</td>\n",
       "      <td>0.106812</td>\n",
       "      <td>0.00</td>\n",
       "      <td>0.09</td>\n",
       "      <td>0.15</td>\n",
       "      <td>0.23</td>\n",
       "      <td>0.83</td>\n",
       "    </tr>\n",
       "    <tr>\n",
       "      <th>cb_person_cred_hist_length</th>\n",
       "      <td>32416.0</td>\n",
       "      <td>5.811297</td>\n",
       "      <td>4.059030</td>\n",
       "      <td>2.00</td>\n",
       "      <td>3.00</td>\n",
       "      <td>4.00</td>\n",
       "      <td>8.00</td>\n",
       "      <td>30.00</td>\n",
       "    </tr>\n",
       "  </tbody>\n",
       "</table>\n",
       "</div>"
      ],
      "text/plain": [
       "                              count          mean           std      min  \\\n",
       "person_age                  32416.0     27.747008      6.354100    20.00   \n",
       "person_income               32416.0  66091.640826  62015.580269  4000.00   \n",
       "person_emp_length           32416.0      4.768880      4.090411     0.00   \n",
       "loan_amnt                   32416.0   9593.845632   6322.730241   500.00   \n",
       "loan_int_rate               32416.0     11.014662      3.083050     5.42   \n",
       "loan_status                 32416.0      0.218688      0.413363     0.00   \n",
       "loan_percent_income         32416.0      0.170250      0.106812     0.00   \n",
       "cb_person_cred_hist_length  32416.0      5.811297      4.059030     2.00   \n",
       "\n",
       "                                 25%       50%       75%         max  \n",
       "person_age                     23.00     26.00     30.00      144.00  \n",
       "person_income               38542.00  55000.00  79218.00  6000000.00  \n",
       "person_emp_length               2.00      4.00      7.00      123.00  \n",
       "loan_amnt                    5000.00   8000.00  12250.00    35000.00  \n",
       "loan_int_rate                   8.49     10.99     13.11       23.22  \n",
       "loan_status                     0.00      0.00      0.00        1.00  \n",
       "loan_percent_income             0.09      0.15      0.23        0.83  \n",
       "cb_person_cred_hist_length      3.00      4.00      8.00       30.00  "
      ]
     },
     "execution_count": 7,
     "metadata": {},
     "output_type": "execute_result"
    }
   ],
   "source": [
    "df.describe().T"
   ]
  },
  {
   "cell_type": "code",
   "execution_count": 8,
   "metadata": {
    "collapsed": false,
    "pycharm": {
     "name": "#%%\n"
    }
   },
   "outputs": [],
   "source": [
    "# Outlier temizliği\n",
    "df = df[df['person_age']<=100]\n",
    "df = df[df['person_emp_length'] <= 60]\n",
    "df = df[df['person_income']<=4e6]"
   ]
  },
  {
   "cell_type": "code",
   "execution_count": 9,
   "metadata": {
    "collapsed": false,
    "pycharm": {
     "name": "#%%\n"
    }
   },
   "outputs": [
    {
     "data": {
      "text/plain": [
       "Index(['person_home_ownership', 'loan_intent', 'loan_grade',\n",
       "       'cb_person_default_on_file'],\n",
       "      dtype='object')"
      ]
     },
     "execution_count": 9,
     "metadata": {},
     "output_type": "execute_result"
    }
   ],
   "source": [
    "# Kategorik verileri alıyoruz ve one hot encoding haline getiriyoruz\n",
    "cat_cols = pd.DataFrame(df[df.select_dtypes(include=['object']).columns])\n",
    "cat_cols.columns"
   ]
  },
  {
   "cell_type": "code",
   "execution_count": 10,
   "metadata": {
    "collapsed": false,
    "pycharm": {
     "name": "#%%\n"
    }
   },
   "outputs": [],
   "source": [
    "encoded_cat_cols = pd.get_dummies(cat_cols)\n",
    "df.drop(df.select_dtypes(include=['object']).columns, axis=1,inplace=True)\n",
    "df = pd.concat([df,encoded_cat_cols], axis=1)"
   ]
  },
  {
   "cell_type": "code",
   "execution_count": 11,
   "metadata": {
    "collapsed": false,
    "pycharm": {
     "name": "#%%\n"
    }
   },
   "outputs": [],
   "source": [
    "X = df.drop('loan_status', axis=1).values\n",
    "y = df['loan_status'].values\n"
   ]
  },
  {
   "cell_type": "code",
   "execution_count": 12,
   "metadata": {
    "collapsed": false,
    "pycharm": {
     "name": "#%%\n"
    }
   },
   "outputs": [],
   "source": [
    "# Verileri train ve test olarak ikiye ayırıyoruz\n",
    "\n",
    "from sklearn.model_selection import StratifiedShuffleSplit\n",
    "\n",
    "split = StratifiedShuffleSplit(1, test_size=0.1)\n",
    "train_idx, test_idx = next(split.split(X, y))\n",
    "train_x = X[train_idx]\n",
    "test_x = X[test_idx]\n",
    "\n",
    "train_y = y[train_idx]\n",
    "test_y = y[test_idx]\n"
   ]
  },
  {
   "cell_type": "markdown",
   "metadata": {
    "collapsed": false,
    "pycharm": {
     "name": "#%% md\n"
    }
   },
   "source": [
    "_Sklearn Kütüphanesinin Decomposition modülünden PCA import Ediyoruz_\n"
   ]
  },
  {
   "cell_type": "code",
   "execution_count": 13,
   "metadata": {
    "collapsed": false,
    "pycharm": {
     "name": "#%%\n"
    }
   },
   "outputs": [
    {
     "data": {
      "text/plain": [
       "array([[ 1.65280794e-05,  9.99267506e-01,  1.18367356e-05,\n",
       "         3.82681402e-02, -7.17659245e-08, -5.91935302e-07,\n",
       "         9.51225022e-06,  2.21374548e-06,  1.45147546e-08,\n",
       "        -2.39757640e-07, -1.98850259e-06,  1.94202186e-08,\n",
       "        -1.30265658e-07,  3.11122611e-07, -2.83837224e-07,\n",
       "         5.96245243e-08,  2.39355280e-08,  9.12358366e-08,\n",
       "         3.50288430e-08, -1.22129559e-07, -8.23001095e-08,\n",
       "         4.81752118e-08,  2.46218526e-08,  5.36792459e-09,\n",
       "         1.33508740e-08, -1.33508740e-08],\n",
       "       [-3.48333106e-06,  3.82681406e-02, -4.38910020e-05,\n",
       "        -9.99267502e-01, -7.62436499e-05, -1.25516182e-05,\n",
       "        -2.65852495e-07, -4.84040228e-06, -1.04837485e-07,\n",
       "         6.26276686e-07,  4.31896308e-06,  1.55289126e-07,\n",
       "         3.33172805e-07, -1.60774251e-06,  8.85707313e-07,\n",
       "         2.00713973e-07,  3.28592922e-08,  9.95621988e-06,\n",
       "        -3.43333238e-06,  1.69298895e-06, -4.24220848e-06,\n",
       "        -2.57305353e-06, -9.77069833e-07, -4.23544606e-07,\n",
       "         2.80406107e-06, -2.80406107e-06],\n",
       "       [ 8.44806707e-01, -1.99506614e-05,  1.13999566e-01,\n",
       "        -9.19577948e-06,  4.28583250e-03, -9.26983995e-05,\n",
       "         5.22729796e-01,  4.31438977e-04, -8.53682682e-05,\n",
       "         4.06705246e-04, -7.52775955e-04, -4.96594619e-04,\n",
       "        -4.88227353e-03,  2.95995872e-03,  1.41462153e-03,\n",
       "         1.90160261e-03, -8.97314716e-04, -4.30784313e-04,\n",
       "        -4.11282472e-04,  3.60421830e-04,  4.22155591e-04,\n",
       "        -6.89006901e-05,  1.00121163e-04,  2.82688914e-05,\n",
       "        -1.38328660e-04,  1.38328660e-04],\n",
       "       [-8.89023275e-02, -8.40718278e-06,  9.81590118e-01,\n",
       "        -3.18484929e-05, -1.47231805e-01, -1.64630494e-03,\n",
       "        -6.92327995e-02,  2.62827942e-02, -2.53834418e-04,\n",
       "         2.15365981e-03, -2.81826196e-02, -1.10348838e-05,\n",
       "        -1.50295260e-03,  5.81301956e-04, -2.84759805e-04,\n",
       "        -1.23594302e-04,  1.34103964e-03,  1.83366966e-02,\n",
       "        -8.29649070e-04, -8.17545158e-03, -5.68241395e-03,\n",
       "        -2.66152255e-03, -9.37292222e-04, -5.03672296e-05,\n",
       "         9.10674174e-03, -9.10674174e-03],\n",
       "       [-2.13961108e-02,  1.96363884e-06,  1.48891072e-01,\n",
       "        -8.22995036e-05,  9.75735781e-01,  5.08154370e-05,\n",
       "        -6.06956976e-03, -1.74122276e-02,  2.14298474e-04,\n",
       "        -3.14196246e-04,  1.75121254e-02, -4.91622073e-04,\n",
       "        -1.25002230e-03,  1.52377278e-03,  1.07859587e-03,\n",
       "        -5.74188244e-04, -2.86536031e-04, -1.13645318e-01,\n",
       "        -2.29834218e-03,  4.74195329e-02,  4.58098758e-02,\n",
       "         1.60476456e-02,  4.92499273e-03,  1.74161298e-03,\n",
       "        -5.96165727e-02,  5.96165727e-02],\n",
       "       [ 5.27107900e-01, -4.29817545e-07, -1.09104505e-02,\n",
       "        -1.71447552e-06,  7.42183018e-03, -8.99930143e-04,\n",
       "        -8.49638471e-01, -7.43975392e-04,  1.98646365e-05,\n",
       "        -2.24997519e-03,  2.97408595e-03,  1.22712196e-03,\n",
       "        -5.03227052e-03,  4.77190909e-03,  2.27168797e-03,\n",
       "        -1.45175232e-03, -1.78669618e-03, -2.37361272e-04,\n",
       "        -2.30950482e-03, -1.21018024e-04,  1.46407792e-03,\n",
       "         1.10658871e-03,  2.08955436e-04, -1.11737947e-04,\n",
       "        -2.59306655e-03,  2.59306655e-03],\n",
       "       [-3.04560987e-03,  2.32296914e-06,  3.34562948e-02,\n",
       "         5.59497397e-06, -2.64780732e-02,  1.69422871e-02,\n",
       "        -4.83648107e-04, -6.69470556e-01, -7.79192421e-04,\n",
       "        -2.14715363e-02,  6.91721285e-01,  7.12838439e-05,\n",
       "        -1.05916788e-02, -2.84138209e-02,  5.68693902e-02,\n",
       "        -9.71170939e-03, -8.22346495e-03, -1.00797943e-01,\n",
       "         1.95813271e-01, -5.40703017e-02, -2.88450426e-02,\n",
       "        -7.21440846e-03, -3.40013497e-03, -1.48544041e-03,\n",
       "         8.40003731e-02, -8.40003731e-02],\n",
       "       [-2.71392205e-03,  4.38570371e-07,  7.88532679e-03,\n",
       "         7.57314258e-06, -4.34173726e-02,  4.61448444e-03,\n",
       "         2.82122620e-03, -1.77161203e-01,  9.34450001e-05,\n",
       "        -2.09406439e-03,  1.79161822e-01,  1.20463222e-02,\n",
       "         8.77615616e-03, -9.12805678e-03, -3.58561367e-05,\n",
       "        -8.85719836e-03, -2.80136710e-03,  2.78307096e-01,\n",
       "        -6.72464411e-01,  2.97183826e-01,  8.56677652e-02,\n",
       "         1.06021880e-02,  4.82874012e-04,  2.20661503e-04,\n",
       "        -3.92875191e-01,  3.92875191e-01],\n",
       "       [ 6.55810301e-03, -6.36628722e-08,  3.08763438e-03,\n",
       "         3.20768896e-07, -1.84933697e-02, -1.22615409e-03,\n",
       "        -1.96804234e-03, -1.31825777e-02, -1.07448208e-03,\n",
       "         2.59923121e-03,  1.16578286e-02, -9.29820588e-02,\n",
       "         8.46006215e-01, -1.95806065e-02, -4.31601744e-01,\n",
       "        -1.16380926e-01, -1.85460880e-01, -9.98320471e-02,\n",
       "         7.56114120e-02,  1.20218579e-01, -7.54810877e-02,\n",
       "        -1.37772115e-02, -4.67587491e-03, -2.06376966e-03,\n",
       "        -4.61368550e-02,  4.61368550e-02],\n",
       "       [ 7.88633002e-04,  1.45425039e-07,  4.98161564e-04,\n",
       "        -1.70811436e-06,  1.06620167e-01, -1.60735800e-04,\n",
       "        -2.69501174e-04, -4.17973990e-02, -1.82211069e-04,\n",
       "         2.64609660e-03,  3.93335135e-02, -1.07612166e-02,\n",
       "         1.56307182e-01,  8.10632600e-03, -1.01292852e-01,\n",
       "         8.39383024e-03, -6.07532699e-02,  4.64930084e-01,\n",
       "        -4.01853536e-01, -4.30738881e-01,  2.71467490e-01,\n",
       "         6.79304920e-02,  2.16299317e-02,  6.63441889e-03,\n",
       "         3.90315020e-01, -3.90315020e-01],\n",
       "       [-1.22162353e-03,  7.68464557e-08, -2.13091488e-04,\n",
       "         4.32840265e-07,  2.64258460e-03, -2.24230758e-03,\n",
       "         1.64202125e-03,  8.06858086e-02, -1.76266024e-03,\n",
       "        -9.08683820e-02,  1.19452336e-02, -5.50091493e-02,\n",
       "         1.93394746e-01, -1.99939080e-02,  7.14418153e-01,\n",
       "        -2.09766132e-01, -6.23043710e-01,  7.37952896e-03,\n",
       "        -1.74962500e-02,  2.42129936e-02, -1.42455237e-02,\n",
       "        -2.09548009e-03,  2.37695142e-03, -1.32220186e-04,\n",
       "         1.58898550e-02, -1.58898550e-02],\n",
       "       [ 2.38297869e-03,  1.24237942e-07, -1.17840390e-03,\n",
       "         3.28917267e-07,  7.46559957e-03,  1.66405342e-03,\n",
       "        -2.13513392e-04, -6.74901156e-02,  1.50819690e-03,\n",
       "         1.45589957e-01, -7.96080386e-02, -3.94200189e-01,\n",
       "         1.51681089e-01, -1.98261436e-02,  2.83440482e-01,\n",
       "        -6.04003057e-01,  5.82907819e-01,  2.78110082e-02,\n",
       "        -2.79674198e-02,  8.43198778e-03, -1.98794759e-02,\n",
       "         7.66106467e-03,  3.22753944e-03,  7.15295672e-04,\n",
       "         3.17650152e-02, -3.17650152e-02],\n",
       "       [ 5.23098158e-06, -1.12077877e-07,  1.97592861e-04,\n",
       "        -3.31351253e-07,  2.44366504e-03, -2.05509120e-03,\n",
       "         2.68012621e-03,  7.44553343e-02, -1.06517474e-03,\n",
       "        -1.38978785e-01,  6.55886251e-02,  7.61127218e-01,\n",
       "        -5.98687263e-02,  2.18930663e-02, -1.23921966e-01,\n",
       "        -6.08805403e-01,  9.57581036e-03, -2.44301382e-03,\n",
       "        -4.86947397e-03,  1.27694400e-02, -8.85607705e-03,\n",
       "         1.59941633e-03,  1.65128376e-03,  1.48424701e-04,\n",
       "         2.31713638e-02, -2.31713638e-02],\n",
       "       [-7.40281588e-04,  7.54732194e-08, -7.82365955e-04,\n",
       "        -3.25521621e-06, -4.03552599e-02, -8.06483530e-04,\n",
       "         2.06536168e-03, -2.14197347e-03,  2.32805648e-03,\n",
       "         4.23391614e-03, -4.41999916e-03, -1.52109278e-02,\n",
       "         5.08587958e-02,  6.19536459e-02,  4.33343858e-04,\n",
       "        -7.58517698e-02, -2.21830879e-02, -2.74214104e-02,\n",
       "         2.20685359e-01, -6.50452706e-01,  4.51531889e-01,\n",
       "         9.27412002e-03, -2.86405947e-03, -7.53192468e-04,\n",
       "        -3.92999609e-01,  3.92999609e-01],\n",
       "       [-5.18932577e-03, -7.94257473e-08, -2.10190514e-04,\n",
       "        -8.78829992e-07, -3.12766850e-03, -1.71938150e-03,\n",
       "         2.32206318e-03, -8.36260383e-02,  1.46219707e-03,\n",
       "         1.17516222e-01, -3.53523813e-02, -1.80400606e-01,\n",
       "        -1.62251257e-01,  8.99449088e-01, -1.61352823e-01,\n",
       "        -1.84989775e-01, -2.10454627e-01, -1.59836147e-02,\n",
       "        -1.48023783e-02,  5.67958268e-02, -2.42004325e-02,\n",
       "         4.49822855e-04, -1.61794732e-03, -6.41276869e-04,\n",
       "         2.43385935e-02, -2.43385935e-02],\n",
       "       [ 1.44340683e-03,  3.67627280e-07, -1.42287239e-03,\n",
       "         8.61453675e-07, -2.37230485e-04,  1.95821054e-02,\n",
       "        -2.20234567e-03, -4.02951773e-01,  8.92963748e-03,\n",
       "         7.73371911e-01, -3.79349776e-01,  2.32041949e-01,\n",
       "         4.61376402e-03, -1.32495045e-01,  3.62685615e-02,\n",
       "         8.22784729e-03, -1.48657077e-01, -3.84891950e-03,\n",
       "         9.51351033e-03,  2.00425197e-03,  4.01499261e-03,\n",
       "        -1.09157214e-02, -7.07833612e-04, -6.02803766e-05,\n",
       "        -4.76826871e-04,  4.76826871e-04],\n",
       "       [-5.91582813e-05, -9.45718737e-08,  7.86755375e-04,\n",
       "        -1.07756395e-06,  6.92600920e-02, -5.85696654e-03,\n",
       "         4.75873587e-04, -1.11434679e-02,  1.55607812e-03,\n",
       "         4.77831798e-03,  4.80907176e-03,  7.82449060e-03,\n",
       "         1.56311156e-03,  1.21916315e-02, -8.52838794e-03,\n",
       "         1.94079851e-03, -1.49916442e-02,  3.94140983e-01,\n",
       "         1.13240413e-01, -3.00311182e-01, -7.18189059e-01,\n",
       "         4.16327741e-01,  7.16443751e-02,  2.31467288e-02,\n",
       "        -1.43755812e-01,  1.43755812e-01],\n",
       "       [-4.44011204e-04,  5.82225773e-08,  1.04001059e-04,\n",
       "        -1.14899627e-06, -6.79893358e-02,  9.02314598e-03,\n",
       "         7.47476948e-04, -4.97376924e-04,  4.01220288e-03,\n",
       "         4.63447443e-03, -8.14930038e-03,  4.87802014e-04,\n",
       "        -9.27611463e-04, -1.05198036e-02,  5.93385089e-03,\n",
       "         4.15200023e-03,  8.73761879e-04, -4.85473963e-01,\n",
       "        -2.40985150e-01, -2.11316985e-02,  1.29128508e-01,\n",
       "         8.09184313e-01, -1.47774286e-01, -4.29477245e-02,\n",
       "         5.33175531e-02, -5.33175531e-02],\n",
       "       [-2.62919772e-04,  2.01056242e-08,  2.48238839e-04,\n",
       "        -7.66071375e-07, -2.65135959e-02,  8.68940838e-04,\n",
       "         1.65452055e-04, -4.16671698e-03,  9.38860386e-03,\n",
       "        -1.92934681e-03, -3.29254007e-03, -8.49290779e-04,\n",
       "        -6.48975728e-04, -1.37379499e-03, -8.58965686e-04,\n",
       "         3.00461523e-03,  7.26411953e-04, -3.15972650e-01,\n",
       "        -2.24808786e-01, -1.55841590e-01, -1.09562730e-01,\n",
       "        -8.33826321e-02,  8.97359648e-01, -7.79126009e-03,\n",
       "         1.06470618e-02, -1.06470618e-02],\n",
       "       [ 4.42039326e-04,  1.00031806e-06,  1.06593065e-03,\n",
       "        -1.26798344e-05,  1.38725403e-03,  9.95634785e-01,\n",
       "        -7.74510891e-04, -5.03188810e-03,  7.67071368e-02,\n",
       "        -4.16768763e-02, -2.99983724e-02, -2.94742629e-03,\n",
       "         1.04751766e-03,  4.85373957e-03, -1.69808729e-03,\n",
       "        -1.20937260e-03, -4.63710557e-05,  7.79927375e-03,\n",
       "         3.07516522e-03, -1.85054487e-03, -4.93362341e-03,\n",
       "        -4.80535919e-03,  2.34739570e-04,  4.80348940e-04,\n",
       "        -1.05622441e-03,  1.05622441e-03],\n",
       "       [ 1.10420973e-05, -1.08558341e-07,  2.17841714e-04,\n",
       "         1.03929480e-06,  2.22752089e-04, -8.87811213e-02,\n",
       "         1.32918786e-04, -2.85231057e-01,  8.62479528e-01,\n",
       "        -2.94992921e-01, -2.82255550e-01, -4.00961147e-04,\n",
       "         1.13351392e-03, -7.34477576e-04,  3.47432177e-04,\n",
       "         2.08734427e-04, -5.54241882e-04,  5.74730149e-03,\n",
       "         3.95063681e-03,  5.26476653e-03,  2.02696226e-03,\n",
       "        -2.14970443e-03, -8.03710985e-03, -6.80285285e-03,\n",
       "         1.15550718e-03, -1.15550718e-03],\n",
       "       [ 5.04393234e-05,  1.44602743e-08, -1.88385857e-04,\n",
       "        -3.06466980e-07, -7.84033694e-03, -5.75101231e-04,\n",
       "        -8.62222463e-05, -2.63856740e-03,  6.53302538e-03,\n",
       "        -2.08444572e-03, -1.81001225e-03, -2.61307362e-04,\n",
       "         5.18786652e-04, -2.86471661e-04,  1.31954463e-04,\n",
       "         1.84590038e-04, -2.87552126e-04, -1.93206824e-01,\n",
       "        -1.66708945e-01, -1.46652374e-01, -1.33361098e-01,\n",
       "        -1.28642051e-01, -1.55874625e-01,  9.24445917e-01,\n",
       "         3.28296567e-03, -3.28296567e-03],\n",
       "       [ 0.00000000e+00, -4.34780455e-18,  6.63386521e-15,\n",
       "         4.39707150e-17,  1.86911747e-14, -3.66454724e-12,\n",
       "         5.27097537e-15,  9.00302576e-02,  9.00302576e-02,\n",
       "         9.00302576e-02,  9.00302576e-02,  3.82667237e-01,\n",
       "         3.82667237e-01,  3.82667237e-01,  3.82667237e-01,\n",
       "         3.82667237e-01,  3.82667237e-01,  1.12696840e-01,\n",
       "         1.12696840e-01,  1.12696840e-01,  1.12696840e-01,\n",
       "         1.12696840e-01,  1.12696840e-01,  1.12696840e-01,\n",
       "        -5.86855372e-03, -5.86855372e-03],\n",
       "       [-0.00000000e+00, -1.20760978e-21,  2.32297728e-18,\n",
       "        -9.39928678e-21, -6.81947750e-17, -2.86625077e-15,\n",
       "        -1.21095643e-18, -4.25044403e-01, -4.25044403e-01,\n",
       "        -4.25044403e-01, -4.25044403e-01,  1.17231782e-01,\n",
       "         1.17231782e-01,  1.17231782e-01,  1.17231782e-01,\n",
       "         1.17231782e-01,  1.17231782e-01, -1.49244339e-01,\n",
       "        -1.49244339e-01, -1.49244339e-01, -1.49244339e-01,\n",
       "        -1.49244339e-01, -1.49244339e-01, -1.49244339e-01,\n",
       "        -1.39592566e-01, -1.39592566e-01],\n",
       "       [ 0.00000000e+00,  4.65362159e-22, -7.18023110e-18,\n",
       "         6.43082679e-21, -2.37332109e-17,  6.44723145e-16,\n",
       "        -1.49379785e-18,  2.32721174e-01,  2.32721174e-01,\n",
       "         2.32721174e-01,  2.32721174e-01,  4.10218872e-02,\n",
       "         4.10218872e-02,  4.10218872e-02,  4.10218872e-02,\n",
       "         4.10218872e-02,  4.10218872e-02, -2.32247418e-01,\n",
       "        -2.32247418e-01, -2.32247418e-01, -2.32247418e-01,\n",
       "        -2.32247418e-01, -2.32247418e-01, -2.32247418e-01,\n",
       "        -4.44800296e-01, -4.44800296e-01],\n",
       "       [ 0.00000000e+00,  1.90240671e-21, -1.05937887e-17,\n",
       "        -4.17638672e-20, -1.23282517e-17,  2.07936570e-17,\n",
       "         4.11524441e-19,  8.40991291e-02,  8.40991291e-02,\n",
       "         8.40991291e-02,  8.40991291e-02,  6.93279617e-02,\n",
       "         6.93279617e-02,  6.93279617e-02,  6.93279617e-02,\n",
       "         6.93279617e-02,  6.93279617e-02, -2.32258109e-01,\n",
       "        -2.32258109e-01, -2.32258109e-01, -2.32258109e-01,\n",
       "        -2.32258109e-01, -2.32258109e-01, -2.32258109e-01,\n",
       "         5.31631613e-01,  5.31631613e-01]])"
      ]
     },
     "execution_count": 13,
     "metadata": {},
     "output_type": "execute_result"
    }
   ],
   "source": [
    "from sklearn.decomposition import PCA\n",
    "pca = PCA() #components vermiyoruz tüm ratio değerlerini görebilmek için.\n",
    "xD_train = pca.fit(train_x)\n",
    "pca.components_"
   ]
  },
  {
   "cell_type": "code",
   "execution_count": 14,
   "metadata": {},
   "outputs": [],
   "source": [
    "x_train_radio=np.cumsum(pca.explained_variance_ratio_)"
   ]
  },
  {
   "cell_type": "code",
   "execution_count": 15,
   "metadata": {},
   "outputs": [
    {
     "data": {
      "text/plain": [
       "<function matplotlib.pyplot.show(close=None, block=None)>"
      ]
     },
     "execution_count": 15,
     "metadata": {},
     "output_type": "execute_result"
    },
    {
     "data": {
      "image/png": "[encoded data removed]",
      "text/plain": [
       "<Figure size 432x288 with 1 Axes>"
      ]
     },
     "metadata": {
      "needs_background": "light"
     },
     "output_type": "display_data"
    }
   ],
   "source": [
    "x_dimension = np.arange(1,len(x_train_radio)+1)\n",
    "plt.title('CHOSING COMPONENT VALUE')\n",
    "plt.xlabel('X_DIMENSION')\n",
    "plt.ylabel('VARIANCE RADIO')\n",
    "plt.grid()\n",
    "plt.plot(x_dimension,x_train_radio,color='red')\n",
    "plt.show"
   ]
  },
  {
   "cell_type": "markdown",
   "metadata": {},
   "source": [
    "_GRAFİĞE BAKILIRSA 3 DIMENSİONDAN SONRA SABİTLENİYOR BU YÜZDEN 'n_component = 3' SEÇEREK FİT EDECEĞİZ_\n"
   ]
  },
  {
   "cell_type": "code",
   "execution_count": 16,
   "metadata": {},
   "outputs": [
    {
     "name": "stdout",
     "output_type": "stream",
     "text": [
      "(3241,)\n",
      "*******************\n"
     ]
    },
    {
     "data": {
      "text/plain": [
       "((29168, 1), (3241, 1))"
      ]
     },
     "execution_count": 16,
     "metadata": {},
     "output_type": "execute_result"
    }
   ],
   "source": [
    "pca = PCA(n_components=1)\n",
    "X3_train = pca.fit_transform(train_x)\n",
    "X3_test = pca.fit_transform(test_x)\n",
    "\n",
    "print(test_y.shape)\n",
    "print('*******************')\n",
    "(X3_train.shape) , X3_test.shape"
   ]
  },
  {
   "cell_type": "markdown",
   "metadata": {},
   "source": [
    "*Veri Kaybı:*"
   ]
  },
  {
   "cell_type": "code",
   "execution_count": 17,
   "metadata": {},
   "outputs": [
    {
     "data": {
      "text/plain": [
       "0.012440205733564857"
      ]
     },
     "execution_count": 17,
     "metadata": {},
     "output_type": "execute_result"
    }
   ],
   "source": [
    "1 - pca.explained_variance_ratio_.sum()"
   ]
  },
  {
   "cell_type": "markdown",
   "metadata": {},
   "source": [
    "# Logistic Regession Modeli"
   ]
  },
  {
   "cell_type": "code",
   "execution_count": 18,
   "metadata": {},
   "outputs": [],
   "source": [
    "from sklearn.linear_model import LogisticRegression\n",
    "from sklearn.metrics import classification_report, confusion_matrix\n"
   ]
  },
  {
   "cell_type": "code",
   "execution_count": 19,
   "metadata": {},
   "outputs": [
    {
     "name": "stdout",
     "output_type": "stream",
     "text": [
      "              precision    recall  f1-score   support\n",
      "\n",
      "           0       0.89      0.42      0.57      2532\n",
      "           1       0.28      0.81      0.42       709\n",
      "\n",
      "    accuracy                           0.51      3241\n",
      "   macro avg       0.59      0.62      0.50      3241\n",
      "weighted avg       0.76      0.51      0.54      3241\n",
      "\n"
     ]
    },
    {
     "data": {
      "image/png": "[encoded data removed]",
      "text/plain": [
       "<Figure size 576x576 with 1 Axes>"
      ]
     },
     "metadata": {
      "needs_background": "light"
     },
     "output_type": "display_data"
    }
   ],
   "source": [
    "LR = LogisticRegression(fit_intercept=True)\n",
    "LR.fit(X3_train,train_y)\n",
    "predict_y = LR.predict(X3_test)\n",
    "#Model Scores\n",
    "print(classification_report(test_y,predict_y))\n",
    "\n",
    "#Model confusion matrix\n",
    "cm = confusion_matrix(test_y, predict_y)\n",
    "\n",
    "fig, ax = plt.subplots(figsize=(8, 8))\n",
    "ax.imshow(cm)\n",
    "ax.grid(False)\n",
    "ax.xaxis.set(ticks=(0, 1), ticklabels=('Predicted 0s', 'Predicted 1s'))\n",
    "ax.yaxis.set(ticks=(0, 1), ticklabels=('Actual 0s', 'Actual 1s'))\n",
    "ax.set_ylim(1.5, -0.5)\n",
    "for i in range(2):\n",
    "    for j in range(2):\n",
    "        ax.text(j, i, cm[i, j], ha='center', va='center', color='white')\n",
    "plt.show()\n"
   ]
  },
  {
   "cell_type": "markdown",
   "metadata": {},
   "source": [
    "# Random Forest"
   ]
  },
  {
   "cell_type": "code",
   "execution_count": 33,
   "metadata": {},
   "outputs": [],
   "source": [
    "from sklearn.ensemble import RandomForestClassifier\n",
    "from sklearn.metrics import classification_report, confusion_matrix\n",
    "from sklearn.tree import export_graphviz\n",
    "from sklearn import tree\n"
   ]
  },
  {
   "cell_type": "code",
   "execution_count": 34,
   "metadata": {},
   "outputs": [
    {
     "name": "stdout",
     "output_type": "stream",
     "text": [
      "              precision    recall  f1-score   support\n",
      "\n",
      "           0       0.81      0.93      0.86      2532\n",
      "           1       0.46      0.22      0.30       709\n",
      "\n",
      "    accuracy                           0.77      3241\n",
      "   macro avg       0.63      0.57      0.58      3241\n",
      "weighted avg       0.73      0.77      0.74      3241\n",
      "\n"
     ]
    },
    {
     "data": {
      "text/plain": [
       "[Text(0.47708333333333336, 0.9166666666666666, 'X[0] <= -31121.848\\ngini = 0.342\\nsamples = 18496\\nvalue = [22771, 6397]'),\n",
       " Text(0.22083333333333333, 0.75, 'X[0] <= -46130.209\\ngini = 0.496\\nsamples = 3473\\nvalue = [3008, 2497]'),\n",
       " Text(0.10833333333333334, 0.5833333333333334, 'X[0] <= -48042.211\\ngini = 0.329\\nsamples = 582\\nvalue = [193, 738]'),\n",
       " Text(0.06666666666666667, 0.4166666666666667, 'X[0] <= -49902.666\\ngini = 0.365\\nsamples = 422\\nvalue = [165, 521]'),\n",
       " Text(0.03333333333333333, 0.25, 'X[0] <= -51704.631\\ngini = 0.302\\nsamples = 324\\nvalue = [97, 427]'),\n",
       " Text(0.016666666666666666, 0.08333333333333333, 'gini = 0.241\\nsamples = 178\\nvalue = [42, 257]'),\n",
       " Text(0.05, 0.08333333333333333, 'gini = 0.369\\nsamples = 146\\nvalue = [55, 170]'),\n",
       " Text(0.1, 0.25, 'X[0] <= -48084.307\\ngini = 0.487\\nsamples = 98\\nvalue = [68, 94]'),\n",
       " Text(0.08333333333333333, 0.08333333333333333, 'gini = 0.468\\nsamples = 83\\nvalue = [52, 87]'),\n",
       " Text(0.11666666666666667, 0.08333333333333333, 'gini = 0.423\\nsamples = 15\\nvalue = [16, 7]'),\n",
       " Text(0.15, 0.4166666666666667, 'X[0] <= -47901.859\\ngini = 0.202\\nsamples = 160\\nvalue = [28, 217]'),\n",
       " Text(0.13333333333333333, 0.25, 'gini = 0.0\\nsamples = 40\\nvalue = [0, 64]'),\n",
       " Text(0.16666666666666666, 0.25, 'X[0] <= -46866.48\\ngini = 0.262\\nsamples = 120\\nvalue = [28, 153]'),\n",
       " Text(0.15, 0.08333333333333333, 'gini = 0.369\\nsamples = 57\\nvalue = [20, 62]'),\n",
       " Text(0.18333333333333332, 0.08333333333333333, 'gini = 0.149\\nsamples = 63\\nvalue = [8, 91]'),\n",
       " Text(0.3333333333333333, 0.5833333333333334, 'X[0] <= -35814.217\\ngini = 0.473\\nsamples = 2891\\nvalue = [2815, 1759]'),\n",
       " Text(0.26666666666666666, 0.4166666666666667, 'X[0] <= -40848.43\\ngini = 0.447\\nsamples = 1835\\nvalue = [1963, 998]'),\n",
       " Text(0.23333333333333334, 0.25, 'X[0] <= -41264.814\\ngini = 0.411\\nsamples = 766\\nvalue = [874, 355]'),\n",
       " Text(0.21666666666666667, 0.08333333333333333, 'gini = 0.437\\nsamples = 639\\nvalue = [699, 333]'),\n",
       " Text(0.25, 0.08333333333333333, 'gini = 0.198\\nsamples = 127\\nvalue = [175, 22]'),\n",
       " Text(0.3, 0.25, 'X[0] <= -36103.953\\ngini = 0.467\\nsamples = 1069\\nvalue = [1089, 643]'),\n",
       " Text(0.2833333333333333, 0.08333333333333333, 'gini = 0.487\\nsamples = 728\\nvalue = [681, 494]'),\n",
       " Text(0.31666666666666665, 0.08333333333333333, 'gini = 0.392\\nsamples = 341\\nvalue = [408, 149]'),\n",
       " Text(0.4, 0.4166666666666667, 'X[0] <= -35240.539\\ngini = 0.498\\nsamples = 1056\\nvalue = [852, 761]'),\n",
       " Text(0.36666666666666664, 0.25, 'X[0] <= -35625.268\\ngini = 0.377\\nsamples = 152\\nvalue = [61, 181]'),\n",
       " Text(0.35, 0.08333333333333333, 'gini = 0.418\\nsamples = 109\\nvalue = [50, 118]'),\n",
       " Text(0.38333333333333336, 0.08333333333333333, 'gini = 0.253\\nsamples = 43\\nvalue = [11, 63]'),\n",
       " Text(0.43333333333333335, 0.25, 'X[0] <= -32148.062\\ngini = 0.488\\nsamples = 904\\nvalue = [791, 580]'),\n",
       " Text(0.4166666666666667, 0.08333333333333333, 'gini = 0.472\\nsamples = 668\\nvalue = [638, 393]'),\n",
       " Text(0.45, 0.08333333333333333, 'gini = 0.495\\nsamples = 236\\nvalue = [153, 187]'),\n",
       " Text(0.7333333333333333, 0.75, 'X[0] <= -6219.704\\ngini = 0.275\\nsamples = 15023\\nvalue = [19763, 3900]'),\n",
       " Text(0.6, 0.5833333333333334, 'X[0] <= -7481.441\\ngini = 0.345\\nsamples = 6527\\nvalue = [8006, 2284]'),\n",
       " Text(0.5333333333333333, 0.4166666666666667, 'X[0] <= -30746.127\\ngini = 0.336\\nsamples = 6370\\nvalue = [7901, 2152]'),\n",
       " Text(0.5, 0.25, 'X[0] <= -31068.058\\ngini = 0.133\\nsamples = 246\\nvalue = [363, 28]'),\n",
       " Text(0.48333333333333334, 0.08333333333333333, 'gini = 0.262\\nsamples = 36\\nvalue = [49, 9]'),\n",
       " Text(0.5166666666666667, 0.08333333333333333, 'gini = 0.108\\nsamples = 210\\nvalue = [314, 19]'),\n",
       " Text(0.5666666666666667, 0.25, 'X[0] <= -26301.094\\ngini = 0.343\\nsamples = 6124\\nvalue = [7538, 2124]'),\n",
       " Text(0.55, 0.08333333333333333, 'gini = 0.426\\nsamples = 1023\\nvalue = [1105, 490]'),\n",
       " Text(0.5833333333333334, 0.08333333333333333, 'gini = 0.323\\nsamples = 5101\\nvalue = [6433, 1634]'),\n",
       " Text(0.6666666666666666, 0.4166666666666667, 'X[0] <= -6498.222\\ngini = 0.494\\nsamples = 157\\nvalue = [105, 132]'),\n",
       " Text(0.6333333333333333, 0.25, 'X[0] <= -6980.55\\ngini = 0.5\\nsamples = 133\\nvalue = [97, 102]'),\n",
       " Text(0.6166666666666667, 0.08333333333333333, 'gini = 0.478\\nsamples = 66\\nvalue = [39, 60]'),\n",
       " Text(0.65, 0.08333333333333333, 'gini = 0.487\\nsamples = 67\\nvalue = [58, 42]'),\n",
       " Text(0.7, 0.25, 'X[0] <= -6397.35\\ngini = 0.332\\nsamples = 24\\nvalue = [8, 30]'),\n",
       " Text(0.6833333333333333, 0.08333333333333333, 'gini = 0.204\\nsamples = 17\\nvalue = [3, 23]'),\n",
       " Text(0.7166666666666667, 0.08333333333333333, 'gini = 0.486\\nsamples = 7\\nvalue = [5, 7]'),\n",
       " Text(0.8666666666666667, 0.5833333333333334, 'X[0] <= 13779.577\\ngini = 0.212\\nsamples = 8496\\nvalue = [11757, 1616]'),\n",
       " Text(0.8, 0.4166666666666667, 'X[0] <= -5494.79\\ngini = 0.263\\nsamples = 3925\\nvalue = [5191, 959]'),\n",
       " Text(0.7666666666666667, 0.25, 'X[0] <= -5681.157\\ngini = 0.079\\nsamples = 570\\nvalue = [867, 37]'),\n",
       " Text(0.75, 0.08333333333333333, 'gini = 0.065\\nsamples = 472\\nvalue = [723, 25]'),\n",
       " Text(0.7833333333333333, 0.08333333333333333, 'gini = 0.142\\nsamples = 98\\nvalue = [144, 12]'),\n",
       " Text(0.8333333333333334, 0.25, 'X[0] <= -5142.084\\ngini = 0.29\\nsamples = 3355\\nvalue = [4324, 922]'),\n",
       " Text(0.8166666666666667, 0.08333333333333333, 'gini = 0.475\\nsamples = 70\\nvalue = [66, 42]'),\n",
       " Text(0.85, 0.08333333333333333, 'gini = 0.284\\nsamples = 3285\\nvalue = [4258, 880]'),\n",
       " Text(0.9333333333333333, 0.4166666666666667, 'X[0] <= 14760.872\\ngini = 0.165\\nsamples = 4571\\nvalue = [6566, 657]'),\n",
       " Text(0.9, 0.25, 'X[0] <= 14398.201\\ngini = 0.081\\nsamples = 272\\nvalue = [432, 19]'),\n",
       " Text(0.8833333333333333, 0.08333333333333333, 'gini = 0.096\\nsamples = 213\\nvalue = [337, 18]'),\n",
       " Text(0.9166666666666666, 0.08333333333333333, 'gini = 0.021\\nsamples = 59\\nvalue = [95, 1]'),\n",
       " Text(0.9666666666666667, 0.25, 'X[0] <= 18114.657\\ngini = 0.171\\nsamples = 4299\\nvalue = [6134, 638]'),\n",
       " Text(0.95, 0.08333333333333333, 'gini = 0.291\\nsamples = 291\\nvalue = [396, 85]'),\n",
       " Text(0.9833333333333333, 0.08333333333333333, 'gini = 0.16\\nsamples = 4008\\nvalue = [5738, 553]')]"
      ]
     },
     "execution_count": 34,
     "metadata": {},
     "output_type": "execute_result"
    },
    {
     "data": {
      "image/png": "[encoded data removed]",
      "text/plain": [
       "<Figure size 432x288 with 1 Axes>"
      ]
     },
     "metadata": {
      "needs_background": "light"
     },
     "output_type": "display_data"
    }
   ],
   "source": [
    "RF = RandomForestClassifier(n_estimators=100,max_depth=5)\n",
    "RF.fit(X3_train,train_y)\n",
    "predict_y = RF.predict(X3_test)\n",
    "#model scores\n",
    "print(classification_report(test_y,predict_y))\n",
    "\n",
    "#plot tree\n",
    "estimator = RF.estimators_[5]\n",
    "tree.plot_tree(estimator,filled=True)"
   ]
  },
  {
   "cell_type": "markdown",
   "metadata": {},
   "source": [
    "# PCA components sayısı değiştirerek model eğitimleri yapma: "
   ]
  },
  {
   "cell_type": "code",
   "execution_count": 37,
   "metadata": {},
   "outputs": [
    {
     "name": "stdout",
     "output_type": "stream",
     "text": [
      "(29168,)\n",
      "*******************\n"
     ]
    },
    {
     "data": {
      "text/plain": [
       "((29168, 15), (3241, 15))"
      ]
     },
     "execution_count": 37,
     "metadata": {},
     "output_type": "execute_result"
    }
   ],
   "source": [
    "pca1 = PCA(n_components=15)\n",
    "X15_train = pca1.fit_transform(train_x)\n",
    "X15_test = pca1.fit_transform(test_x)\n",
    "\n",
    "print(train_y.shape)\n",
    "print('*******************')\n",
    "(X15_train.shape) , X15_test.shape"
   ]
  },
  {
   "cell_type": "markdown",
   "metadata": {},
   "source": [
    "_Veri kaybı:_ "
   ]
  },
  {
   "cell_type": "code",
   "execution_count": 38,
   "metadata": {},
   "outputs": [
    {
     "data": {
      "text/plain": [
       "6.827383103313878e-11"
      ]
     },
     "execution_count": 38,
     "metadata": {},
     "output_type": "execute_result"
    }
   ],
   "source": [
    "1 - pca1.explained_variance_ratio_.sum()"
   ]
  },
  {
   "cell_type": "markdown",
   "metadata": {},
   "source": [
    "# Logistic Regession"
   ]
  },
  {
   "cell_type": "code",
   "execution_count": 40,
   "metadata": {},
   "outputs": [
    {
     "name": "stdout",
     "output_type": "stream",
     "text": [
      "              precision    recall  f1-score   support\n",
      "\n",
      "           0       0.84      0.96      0.90      2532\n",
      "           1       0.72      0.36      0.48       709\n",
      "\n",
      "    accuracy                           0.83      3241\n",
      "   macro avg       0.78      0.66      0.69      3241\n",
      "weighted avg       0.81      0.83      0.81      3241\n",
      "\n"
     ]
    },
    {
     "data": {
      "image/png": "[encoded data removed]",
      "text/plain": [
       "<Figure size 576x576 with 1 Axes>"
      ]
     },
     "metadata": {
      "needs_background": "light"
     },
     "output_type": "display_data"
    }
   ],
   "source": [
    "LR = LogisticRegression(fit_intercept=True)\n",
    "LR.fit(X15_train,train_y)\n",
    "predict_y = LR.predict(X15_test)\n",
    "#Model Scores\n",
    "print(classification_report(test_y,predict_y))\n",
    "\n",
    "#Model confusion matrix\n",
    "cm = confusion_matrix(test_y, predict_y)\n",
    "\n",
    "fig, ax = plt.subplots(figsize=(8, 8))\n",
    "ax.imshow(cm)\n",
    "ax.grid(False)\n",
    "ax.xaxis.set(ticks=(0, 1), ticklabels=('Predicted 0s', 'Predicted 1s'))\n",
    "ax.yaxis.set(ticks=(0, 1), ticklabels=('Actual 0s', 'Actual 1s'))\n",
    "ax.set_ylim(1.5, -0.5)\n",
    "for i in range(2):\n",
    "    for j in range(2):\n",
    "        ax.text(j, i, cm[i, j], ha='center', va='center', color='white')\n",
    "plt.show()"
   ]
  },
  {
   "cell_type": "markdown",
   "metadata": {},
   "source": [
    "# Random Forest"
   ]
  },
  {
   "cell_type": "code",
   "execution_count": 36,
   "metadata": {},
   "outputs": [],
   "source": [
    "from sklearn.ensemble import RandomForestClassifier\n",
    "from sklearn.metrics import classification_report, confusion_matrix\n",
    "from sklearn.tree import export_graphviz\n",
    "from sklearn import tree"
   ]
  },
  {
   "cell_type": "code",
   "execution_count": 41,
   "metadata": {},
   "outputs": [
    {
     "name": "stdout",
     "output_type": "stream",
     "text": [
      "              precision    recall  f1-score   support\n",
      "\n",
      "           0       0.85      0.98      0.91      2532\n",
      "           1       0.84      0.39      0.54       709\n",
      "\n",
      "    accuracy                           0.85      3241\n",
      "   macro avg       0.85      0.69      0.72      3241\n",
      "weighted avg       0.85      0.85      0.83      3241\n",
      "\n"
     ]
    },
    {
     "data": {
      "text/plain": [
       "[Text(0.4895833333333333, 0.9166666666666666, 'X[0] <= -31122.059\\ngini = 0.343\\nsamples = 18504\\nvalue = [22766, 6402]'),\n",
       " Text(0.24583333333333332, 0.75, 'X[0] <= -46137.863\\ngini = 0.494\\nsamples = 3485\\nvalue = [3073, 2478]'),\n",
       " Text(0.13333333333333333, 0.5833333333333334, 'X[14] <= 0.07\\ngini = 0.318\\nsamples = 591\\nvalue = [180, 728]'),\n",
       " Text(0.06666666666666667, 0.4166666666666667, 'X[6] <= -1.111\\ngini = 0.352\\nsamples = 484\\nvalue = [169, 572]'),\n",
       " Text(0.03333333333333333, 0.25, 'X[4] <= 2.566\\ngini = 0.444\\nsamples = 10\\nvalue = [10, 5]'),\n",
       " Text(0.016666666666666666, 0.08333333333333333, 'gini = 0.0\\nsamples = 4\\nvalue = [7, 0]'),\n",
       " Text(0.05, 0.08333333333333333, 'gini = 0.469\\nsamples = 6\\nvalue = [3, 5]'),\n",
       " Text(0.1, 0.25, 'X[14] <= -0.094\\ngini = 0.342\\nsamples = 474\\nvalue = [159, 567]'),\n",
       " Text(0.08333333333333333, 0.08333333333333333, 'gini = 0.237\\nsamples = 233\\nvalue = [50, 314]'),\n",
       " Text(0.11666666666666667, 0.08333333333333333, 'gini = 0.421\\nsamples = 241\\nvalue = [109, 253]'),\n",
       " Text(0.2, 0.4166666666666667, 'X[5] <= 1.004\\ngini = 0.123\\nsamples = 107\\nvalue = [11, 156]'),\n",
       " Text(0.16666666666666666, 0.25, 'X[10] <= 0.057\\ngini = 0.044\\nsamples = 87\\nvalue = [3, 131]'),\n",
       " Text(0.15, 0.08333333333333333, 'gini = 0.016\\nsamples = 79\\nvalue = [1, 123]'),\n",
       " Text(0.18333333333333332, 0.08333333333333333, 'gini = 0.32\\nsamples = 8\\nvalue = [2, 8]'),\n",
       " Text(0.23333333333333334, 0.25, 'X[7] <= -0.023\\ngini = 0.367\\nsamples = 20\\nvalue = [8, 25]'),\n",
       " Text(0.21666666666666667, 0.08333333333333333, 'gini = 0.5\\nsamples = 8\\nvalue = [8, 8]'),\n",
       " Text(0.25, 0.08333333333333333, 'gini = 0.0\\nsamples = 12\\nvalue = [0, 17]'),\n",
       " Text(0.35833333333333334, 0.5833333333333334, 'X[1] <= 79.351\\ngini = 0.47\\nsamples = 2894\\nvalue = [2893, 1750]'),\n",
       " Text(0.31666666666666665, 0.4166666666666667, 'X[11] <= 0.661\\ngini = 0.43\\nsamples = 793\\nvalue = [405, 888]'),\n",
       " Text(0.3, 0.25, 'X[7] <= -0.729\\ngini = 0.415\\nsamples = 771\\nvalue = [370, 888]'),\n",
       " Text(0.2833333333333333, 0.08333333333333333, 'gini = 0.397\\nsamples = 63\\nvalue = [77, 29]'),\n",
       " Text(0.31666666666666665, 0.08333333333333333, 'gini = 0.379\\nsamples = 708\\nvalue = [293, 859]'),\n",
       " Text(0.3333333333333333, 0.25, 'gini = 0.0\\nsamples = 22\\nvalue = [35, 0]'),\n",
       " Text(0.4, 0.4166666666666667, 'X[4] <= 3.362\\ngini = 0.382\\nsamples = 2101\\nvalue = [2488, 862]'),\n",
       " Text(0.36666666666666664, 0.25, 'X[12] <= 0.048\\ngini = 0.281\\nsamples = 1695\\nvalue = [2234, 455]'),\n",
       " Text(0.35, 0.08333333333333333, 'gini = 0.242\\nsamples = 1275\\nvalue = [1768, 289]'),\n",
       " Text(0.38333333333333336, 0.08333333333333333, 'gini = 0.387\\nsamples = 420\\nvalue = [466, 166]'),\n",
       " Text(0.43333333333333335, 0.25, 'X[7] <= 0.726\\ngini = 0.473\\nsamples = 406\\nvalue = [254, 407]'),\n",
       " Text(0.4166666666666667, 0.08333333333333333, 'gini = 0.419\\nsamples = 326\\nvalue = [158, 371]'),\n",
       " Text(0.45, 0.08333333333333333, 'gini = 0.397\\nsamples = 80\\nvalue = [96, 36]'),\n",
       " Text(0.7333333333333333, 0.75, 'X[4] <= 2.911\\ngini = 0.277\\nsamples = 15019\\nvalue = [19693, 3924]'),\n",
       " Text(0.6, 0.5833333333333334, 'X[0] <= -6164.422\\ngini = 0.208\\nsamples = 12370\\nvalue = [17177, 2293]'),\n",
       " Text(0.5333333333333333, 0.4166666666666667, 'X[6] <= 0.167\\ngini = 0.284\\nsamples = 5379\\nvalue = [7012, 1453]'),\n",
       " Text(0.5, 0.25, 'X[13] <= 0.329\\ngini = 0.182\\nsamples = 2391\\nvalue = [3399, 382]'),\n",
       " Text(0.48333333333333334, 0.08333333333333333, 'gini = 0.168\\nsamples = 2347\\nvalue = [3369, 344]'),\n",
       " Text(0.5166666666666667, 0.08333333333333333, 'gini = 0.493\\nsamples = 44\\nvalue = [30, 38]'),\n",
       " Text(0.5666666666666667, 0.25, 'X[9] <= 0.001\\ngini = 0.353\\nsamples = 2988\\nvalue = [3613, 1071]'),\n",
       " Text(0.55, 0.08333333333333333, 'gini = 0.386\\nsamples = 1769\\nvalue = [2050, 725]'),\n",
       " Text(0.5833333333333334, 0.08333333333333333, 'gini = 0.297\\nsamples = 1219\\nvalue = [1563, 346]'),\n",
       " Text(0.6666666666666666, 0.4166666666666667, 'X[11] <= 0.524\\ngini = 0.141\\nsamples = 6991\\nvalue = [10165, 840]'),\n",
       " Text(0.6333333333333333, 0.25, 'X[4] <= -2.079\\ngini = 0.157\\nsamples = 5905\\nvalue = [8506, 796]'),\n",
       " Text(0.6166666666666667, 0.08333333333333333, 'gini = 0.076\\nsamples = 2047\\nvalue = [3102, 128]'),\n",
       " Text(0.65, 0.08333333333333333, 'gini = 0.196\\nsamples = 3858\\nvalue = [5404, 668]'),\n",
       " Text(0.7, 0.25, 'X[13] <= 0.169\\ngini = 0.05\\nsamples = 1086\\nvalue = [1659, 44]'),\n",
       " Text(0.6833333333333333, 0.08333333333333333, 'gini = 0.033\\nsamples = 1067\\nvalue = [1642, 28]'),\n",
       " Text(0.7166666666666667, 0.08333333333333333, 'gini = 0.5\\nsamples = 19\\nvalue = [17, 16]'),\n",
       " Text(0.8666666666666667, 0.5833333333333334, 'X[9] <= -0.183\\ngini = 0.477\\nsamples = 2649\\nvalue = [2516, 1631]'),\n",
       " Text(0.8, 0.4166666666666667, 'X[10] <= 0.686\\ngini = 0.182\\nsamples = 463\\nvalue = [659, 74]'),\n",
       " Text(0.7666666666666667, 0.25, 'X[14] <= -0.06\\ngini = 0.153\\nsamples = 408\\nvalue = [594, 54]'),\n",
       " Text(0.75, 0.08333333333333333, 'gini = 0.184\\nsamples = 306\\nvalue = [448, 51]'),\n",
       " Text(0.7833333333333333, 0.08333333333333333, 'gini = 0.039\\nsamples = 102\\nvalue = [146, 3]'),\n",
       " Text(0.8333333333333334, 0.25, 'X[2] <= 12.672\\ngini = 0.36\\nsamples = 55\\nvalue = [65, 20]'),\n",
       " Text(0.8166666666666667, 0.08333333333333333, 'gini = 0.295\\nsamples = 49\\nvalue = [64, 14]'),\n",
       " Text(0.85, 0.08333333333333333, 'gini = 0.245\\nsamples = 6\\nvalue = [1, 6]'),\n",
       " Text(0.9333333333333333, 0.4166666666666667, 'X[10] <= 0.625\\ngini = 0.496\\nsamples = 2186\\nvalue = [1857, 1557]'),\n",
       " Text(0.9, 0.25, 'X[11] <= -0.041\\ngini = 0.479\\nsamples = 1834\\nvalue = [1719, 1129]'),\n",
       " Text(0.8833333333333333, 0.08333333333333333, 'gini = 0.498\\nsamples = 822\\nvalue = [585, 671]'),\n",
       " Text(0.9166666666666666, 0.08333333333333333, 'gini = 0.41\\nsamples = 1012\\nvalue = [1134, 458]'),\n",
       " Text(0.9666666666666667, 0.25, 'X[1] <= -2040.047\\ngini = 0.369\\nsamples = 352\\nvalue = [138, 428]'),\n",
       " Text(0.95, 0.08333333333333333, 'gini = 0.097\\nsamples = 148\\nvalue = [12, 223]'),\n",
       " Text(0.9833333333333333, 0.08333333333333333, 'gini = 0.472\\nsamples = 204\\nvalue = [126, 205]')]"
      ]
     },
     "execution_count": 41,
     "metadata": {},
     "output_type": "execute_result"
    },
    {
     "data": {
      "image/png": "[encoded data removed]",
      "text/plain": [
       "<Figure size 432x288 with 1 Axes>"
      ]
     },
     "metadata": {
      "needs_background": "light"
     },
     "output_type": "display_data"
    }
   ],
   "source": [
    "RF = RandomForestClassifier(n_estimators=100,max_depth=5)\n",
    "RF.fit(X15_train,train_y)\n",
    "predict_y15 = RF.predict(X15_test)\n",
    "#model scores\n",
    "print(classification_report(test_y,predict_y15))\n",
    "\n",
    "#plot tree\n",
    "estimator = RF.estimators_[5]\n",
    "tree.plot_tree(estimator,filled=True)"
   ]
  }
 ],
 "metadata": {
  "kernelspec": {
   "display_name": "Python 3",
   "language": "python",
   "name": "python3"
  },
  "language_info": {
   "codemirror_mode": {
    "name": "ipython",
    "version": 3
   },
   "file_extension": ".py",
   "mimetype": "text/x-python",
   "name": "python",
   "nbconvert_exporter": "python",
   "pygments_lexer": "ipython3",
   "version": "3.8.12"
  }
 },
 "nbformat": 4,
 "nbformat_minor": 0
}
